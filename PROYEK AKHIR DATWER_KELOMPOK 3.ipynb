{
 "cells": [
  {
   "cell_type": "code",
   "execution_count": 1,
   "id": "3131438c",
   "metadata": {},
   "outputs": [
    {
     "name": "stdout",
     "output_type": "stream",
     "text": [
      "D:/TUGAS KAMPUS SEMESTER 4/DATA WAREHOUSE & KOMPUTASI TERDISTRBUSI/PROYEK AKHIR DATWER/covid-19-data-master/us-counties-2020.csv: 884737 baris\n",
      "D:/TUGAS KAMPUS SEMESTER 4/DATA WAREHOUSE & KOMPUTASI TERDISTRBUSI/PROYEK AKHIR DATWER/covid-19-data-master/us-counties-2021.csv: 1185373 baris\n",
      "D:/TUGAS KAMPUS SEMESTER 4/DATA WAREHOUSE & KOMPUTASI TERDISTRBUSI/PROYEK AKHIR DATWER/covid-19-data-master/us-counties-2022.csv: 1188042 baris\n",
      "D:/TUGAS KAMPUS SEMESTER 4/DATA WAREHOUSE & KOMPUTASI TERDISTRBUSI/PROYEK AKHIR DATWER/covid-19-data-master/us-counties-2023.csv: 267009 baris\n"
     ]
    }
   ],
   "source": [
    "import os\n",
    "import csv\n",
    "\n",
    "csv_files = [\n",
    "    'D:/TUGAS KAMPUS SEMESTER 4/DATA WAREHOUSE & KOMPUTASI TERDISTRBUSI/PROYEK AKHIR DATWER/covid-19-data-master/us-counties-2020.csv',\n",
    "    'D:/TUGAS KAMPUS SEMESTER 4/DATA WAREHOUSE & KOMPUTASI TERDISTRBUSI/PROYEK AKHIR DATWER/covid-19-data-master/us-counties-2021.csv',\n",
    "    'D:/TUGAS KAMPUS SEMESTER 4/DATA WAREHOUSE & KOMPUTASI TERDISTRBUSI/PROYEK AKHIR DATWER/covid-19-data-master/us-counties-2022.csv',\n",
    "    'D:/TUGAS KAMPUS SEMESTER 4/DATA WAREHOUSE & KOMPUTASI TERDISTRBUSI/PROYEK AKHIR DATWER/covid-19-data-master/us-counties-2023.csv'\n",
    "]\n",
    "\n",
    "# Fu\n",
    "def count_rows(filename):\n",
    "    try:\n",
    "        with open(filename, 'r', encoding='utf-8') as file:\n",
    "            reader = csv.reader(file)\n",
    "            next(reader)  \n",
    "            return sum(1 for _ in reader)\n",
    "    except FileNotFoundError:\n",
    "        return f\"File '{filename}' tidak ditemukan.\"\n",
    "\n",
    "for csv_file in csv_files:\n",
    "    result = count_rows(csv_file)\n",
    "    print(f\"{csv_file}: {result} baris\")\n"
   ]
  },
  {
   "cell_type": "markdown",
   "id": "d7071806",
   "metadata": {},
   "source": [
    "#### **DATA 2020**"
   ]
  },
  {
   "cell_type": "code",
   "execution_count": 2,
   "id": "605c85a3",
   "metadata": {},
   "outputs": [
    {
     "data": {
      "text/html": [
       "<div>\n",
       "<style scoped>\n",
       "    .dataframe tbody tr th:only-of-type {\n",
       "        vertical-align: middle;\n",
       "    }\n",
       "\n",
       "    .dataframe tbody tr th {\n",
       "        vertical-align: top;\n",
       "    }\n",
       "\n",
       "    .dataframe thead th {\n",
       "        text-align: right;\n",
       "    }\n",
       "</style>\n",
       "<table border=\"1\" class=\"dataframe\">\n",
       "  <thead>\n",
       "    <tr style=\"text-align: right;\">\n",
       "      <th></th>\n",
       "      <th>date</th>\n",
       "      <th>county</th>\n",
       "      <th>state</th>\n",
       "      <th>fips</th>\n",
       "      <th>cases</th>\n",
       "      <th>deaths</th>\n",
       "    </tr>\n",
       "  </thead>\n",
       "  <tbody>\n",
       "    <tr>\n",
       "      <th>0</th>\n",
       "      <td>2020-01-21</td>\n",
       "      <td>Snohomish</td>\n",
       "      <td>Washington</td>\n",
       "      <td>53061.0</td>\n",
       "      <td>1</td>\n",
       "      <td>0.0</td>\n",
       "    </tr>\n",
       "    <tr>\n",
       "      <th>1</th>\n",
       "      <td>2020-01-22</td>\n",
       "      <td>Snohomish</td>\n",
       "      <td>Washington</td>\n",
       "      <td>53061.0</td>\n",
       "      <td>1</td>\n",
       "      <td>0.0</td>\n",
       "    </tr>\n",
       "    <tr>\n",
       "      <th>2</th>\n",
       "      <td>2020-01-23</td>\n",
       "      <td>Snohomish</td>\n",
       "      <td>Washington</td>\n",
       "      <td>53061.0</td>\n",
       "      <td>1</td>\n",
       "      <td>0.0</td>\n",
       "    </tr>\n",
       "    <tr>\n",
       "      <th>3</th>\n",
       "      <td>2020-01-24</td>\n",
       "      <td>Cook</td>\n",
       "      <td>Illinois</td>\n",
       "      <td>17031.0</td>\n",
       "      <td>1</td>\n",
       "      <td>0.0</td>\n",
       "    </tr>\n",
       "    <tr>\n",
       "      <th>4</th>\n",
       "      <td>2020-01-24</td>\n",
       "      <td>Snohomish</td>\n",
       "      <td>Washington</td>\n",
       "      <td>53061.0</td>\n",
       "      <td>1</td>\n",
       "      <td>0.0</td>\n",
       "    </tr>\n",
       "  </tbody>\n",
       "</table>\n",
       "</div>"
      ],
      "text/plain": [
       "         date     county       state     fips  cases  deaths\n",
       "0  2020-01-21  Snohomish  Washington  53061.0      1     0.0\n",
       "1  2020-01-22  Snohomish  Washington  53061.0      1     0.0\n",
       "2  2020-01-23  Snohomish  Washington  53061.0      1     0.0\n",
       "3  2020-01-24       Cook    Illinois  17031.0      1     0.0\n",
       "4  2020-01-24  Snohomish  Washington  53061.0      1     0.0"
      ]
     },
     "execution_count": 2,
     "metadata": {},
     "output_type": "execute_result"
    }
   ],
   "source": [
    "import pandas as pd\n",
    "\n",
    "data2020 = pd.read_csv(\"D:/TUGAS KAMPUS SEMESTER 4/DATA WAREHOUSE & KOMPUTASI TERDISTRBUSI/PROYEK AKHIR DATWER/covid-19-data-master/us-counties-2020.csv\")\n",
    "data2020.head()"
   ]
  },
  {
   "cell_type": "code",
   "execution_count": 3,
   "id": "b1a7cd11",
   "metadata": {},
   "outputs": [
    {
     "name": "stdout",
     "output_type": "stream",
     "text": [
      "<class 'pandas.core.frame.DataFrame'>\n",
      "RangeIndex: 884737 entries, 0 to 884736\n",
      "Data columns (total 6 columns):\n",
      " #   Column  Non-Null Count   Dtype  \n",
      "---  ------  --------------   -----  \n",
      " 0   date    884737 non-null  object \n",
      " 1   county  884737 non-null  object \n",
      " 2   state   884737 non-null  object \n",
      " 3   fips    876471 non-null  float64\n",
      " 4   cases   884737 non-null  int64  \n",
      " 5   deaths  865976 non-null  float64\n",
      "dtypes: float64(2), int64(1), object(3)\n",
      "memory usage: 40.5+ MB\n"
     ]
    }
   ],
   "source": [
    "data2020.info()"
   ]
  },
  {
   "cell_type": "code",
   "execution_count": 4,
   "id": "5f2bac48",
   "metadata": {},
   "outputs": [
    {
     "data": {
      "text/plain": [
       "884737"
      ]
     },
     "execution_count": 4,
     "metadata": {},
     "output_type": "execute_result"
    }
   ],
   "source": [
    "len(data2020)"
   ]
  },
  {
   "cell_type": "code",
   "execution_count": 5,
   "id": "e2ef395a",
   "metadata": {},
   "outputs": [
    {
     "data": {
      "text/plain": [
       "date          0\n",
       "county        0\n",
       "state         0\n",
       "fips       8266\n",
       "cases         0\n",
       "deaths    18761\n",
       "dtype: int64"
      ]
     },
     "execution_count": 5,
     "metadata": {},
     "output_type": "execute_result"
    }
   ],
   "source": [
    "data2020.isnull().sum()"
   ]
  },
  {
   "cell_type": "markdown",
   "id": "47258ccc",
   "metadata": {},
   "source": [
    "### **DATA 2021**"
   ]
  },
  {
   "cell_type": "code",
   "execution_count": 6,
   "id": "8b968da1",
   "metadata": {},
   "outputs": [
    {
     "data": {
      "text/html": [
       "<div>\n",
       "<style scoped>\n",
       "    .dataframe tbody tr th:only-of-type {\n",
       "        vertical-align: middle;\n",
       "    }\n",
       "\n",
       "    .dataframe tbody tr th {\n",
       "        vertical-align: top;\n",
       "    }\n",
       "\n",
       "    .dataframe thead th {\n",
       "        text-align: right;\n",
       "    }\n",
       "</style>\n",
       "<table border=\"1\" class=\"dataframe\">\n",
       "  <thead>\n",
       "    <tr style=\"text-align: right;\">\n",
       "      <th></th>\n",
       "      <th>date</th>\n",
       "      <th>county</th>\n",
       "      <th>state</th>\n",
       "      <th>fips</th>\n",
       "      <th>cases</th>\n",
       "      <th>deaths</th>\n",
       "    </tr>\n",
       "  </thead>\n",
       "  <tbody>\n",
       "    <tr>\n",
       "      <th>0</th>\n",
       "      <td>2021-01-01</td>\n",
       "      <td>Autauga</td>\n",
       "      <td>Alabama</td>\n",
       "      <td>1001.0</td>\n",
       "      <td>4239</td>\n",
       "      <td>50.0</td>\n",
       "    </tr>\n",
       "    <tr>\n",
       "      <th>1</th>\n",
       "      <td>2021-01-01</td>\n",
       "      <td>Baldwin</td>\n",
       "      <td>Alabama</td>\n",
       "      <td>1003.0</td>\n",
       "      <td>13823</td>\n",
       "      <td>169.0</td>\n",
       "    </tr>\n",
       "    <tr>\n",
       "      <th>2</th>\n",
       "      <td>2021-01-01</td>\n",
       "      <td>Barbour</td>\n",
       "      <td>Alabama</td>\n",
       "      <td>1005.0</td>\n",
       "      <td>1517</td>\n",
       "      <td>33.0</td>\n",
       "    </tr>\n",
       "    <tr>\n",
       "      <th>3</th>\n",
       "      <td>2021-01-01</td>\n",
       "      <td>Bibb</td>\n",
       "      <td>Alabama</td>\n",
       "      <td>1007.0</td>\n",
       "      <td>1854</td>\n",
       "      <td>46.0</td>\n",
       "    </tr>\n",
       "    <tr>\n",
       "      <th>4</th>\n",
       "      <td>2021-01-01</td>\n",
       "      <td>Blount</td>\n",
       "      <td>Alabama</td>\n",
       "      <td>1009.0</td>\n",
       "      <td>4693</td>\n",
       "      <td>63.0</td>\n",
       "    </tr>\n",
       "  </tbody>\n",
       "</table>\n",
       "</div>"
      ],
      "text/plain": [
       "         date   county    state    fips  cases  deaths\n",
       "0  2021-01-01  Autauga  Alabama  1001.0   4239    50.0\n",
       "1  2021-01-01  Baldwin  Alabama  1003.0  13823   169.0\n",
       "2  2021-01-01  Barbour  Alabama  1005.0   1517    33.0\n",
       "3  2021-01-01     Bibb  Alabama  1007.0   1854    46.0\n",
       "4  2021-01-01   Blount  Alabama  1009.0   4693    63.0"
      ]
     },
     "execution_count": 6,
     "metadata": {},
     "output_type": "execute_result"
    }
   ],
   "source": [
    "import pandas as pd\n",
    "\n",
    "data2021 = pd.read_csv(\"D:/TUGAS KAMPUS SEMESTER 4/DATA WAREHOUSE & KOMPUTASI TERDISTRBUSI/PROYEK AKHIR DATWER/covid-19-data-master/us-counties-2021.csv\")\n",
    "data2021.head()"
   ]
  },
  {
   "cell_type": "code",
   "execution_count": 7,
   "id": "6feef883",
   "metadata": {},
   "outputs": [
    {
     "data": {
      "text/plain": [
       "1185373"
      ]
     },
     "execution_count": 7,
     "metadata": {},
     "output_type": "execute_result"
    }
   ],
   "source": [
    "len(data2021)"
   ]
  },
  {
   "cell_type": "markdown",
   "id": "2d29d31f",
   "metadata": {},
   "source": [
    "### **DATA 2022**"
   ]
  },
  {
   "cell_type": "code",
   "execution_count": 8,
   "id": "e7e6f078",
   "metadata": {},
   "outputs": [
    {
     "data": {
      "text/html": [
       "<div>\n",
       "<style scoped>\n",
       "    .dataframe tbody tr th:only-of-type {\n",
       "        vertical-align: middle;\n",
       "    }\n",
       "\n",
       "    .dataframe tbody tr th {\n",
       "        vertical-align: top;\n",
       "    }\n",
       "\n",
       "    .dataframe thead th {\n",
       "        text-align: right;\n",
       "    }\n",
       "</style>\n",
       "<table border=\"1\" class=\"dataframe\">\n",
       "  <thead>\n",
       "    <tr style=\"text-align: right;\">\n",
       "      <th></th>\n",
       "      <th>date</th>\n",
       "      <th>county</th>\n",
       "      <th>state</th>\n",
       "      <th>fips</th>\n",
       "      <th>cases</th>\n",
       "      <th>deaths</th>\n",
       "    </tr>\n",
       "  </thead>\n",
       "  <tbody>\n",
       "    <tr>\n",
       "      <th>0</th>\n",
       "      <td>2022-01-01</td>\n",
       "      <td>Autauga</td>\n",
       "      <td>Alabama</td>\n",
       "      <td>1001.0</td>\n",
       "      <td>11018</td>\n",
       "      <td>160.0</td>\n",
       "    </tr>\n",
       "    <tr>\n",
       "      <th>1</th>\n",
       "      <td>2022-01-01</td>\n",
       "      <td>Baldwin</td>\n",
       "      <td>Alabama</td>\n",
       "      <td>1003.0</td>\n",
       "      <td>39911</td>\n",
       "      <td>593.0</td>\n",
       "    </tr>\n",
       "    <tr>\n",
       "      <th>2</th>\n",
       "      <td>2022-01-01</td>\n",
       "      <td>Barbour</td>\n",
       "      <td>Alabama</td>\n",
       "      <td>1005.0</td>\n",
       "      <td>3860</td>\n",
       "      <td>81.0</td>\n",
       "    </tr>\n",
       "    <tr>\n",
       "      <th>3</th>\n",
       "      <td>2022-01-01</td>\n",
       "      <td>Bibb</td>\n",
       "      <td>Alabama</td>\n",
       "      <td>1007.0</td>\n",
       "      <td>4533</td>\n",
       "      <td>95.0</td>\n",
       "    </tr>\n",
       "    <tr>\n",
       "      <th>4</th>\n",
       "      <td>2022-01-01</td>\n",
       "      <td>Blount</td>\n",
       "      <td>Alabama</td>\n",
       "      <td>1009.0</td>\n",
       "      <td>11256</td>\n",
       "      <td>198.0</td>\n",
       "    </tr>\n",
       "  </tbody>\n",
       "</table>\n",
       "</div>"
      ],
      "text/plain": [
       "         date   county    state    fips  cases  deaths\n",
       "0  2022-01-01  Autauga  Alabama  1001.0  11018   160.0\n",
       "1  2022-01-01  Baldwin  Alabama  1003.0  39911   593.0\n",
       "2  2022-01-01  Barbour  Alabama  1005.0   3860    81.0\n",
       "3  2022-01-01     Bibb  Alabama  1007.0   4533    95.0\n",
       "4  2022-01-01   Blount  Alabama  1009.0  11256   198.0"
      ]
     },
     "execution_count": 8,
     "metadata": {},
     "output_type": "execute_result"
    }
   ],
   "source": [
    "import pandas as pd\n",
    "\n",
    "data2022 = pd.read_csv(\"D:/TUGAS KAMPUS SEMESTER 4/DATA WAREHOUSE & KOMPUTASI TERDISTRBUSI/PROYEK AKHIR DATWER/covid-19-data-master/us-counties-2022.csv\")\n",
    "data2022.head()"
   ]
  },
  {
   "cell_type": "code",
   "execution_count": 9,
   "id": "5fd9fac3",
   "metadata": {},
   "outputs": [
    {
     "data": {
      "text/plain": [
       "1188042"
      ]
     },
     "execution_count": 9,
     "metadata": {},
     "output_type": "execute_result"
    }
   ],
   "source": [
    "len(data2022)"
   ]
  },
  {
   "cell_type": "code",
   "execution_count": 10,
   "id": "5077b287",
   "metadata": {},
   "outputs": [
    {
     "data": {
      "text/plain": [
       "date          0\n",
       "county        0\n",
       "state         0\n",
       "fips      13101\n",
       "cases         0\n",
       "deaths    28470\n",
       "dtype: int64"
      ]
     },
     "execution_count": 10,
     "metadata": {},
     "output_type": "execute_result"
    }
   ],
   "source": [
    "data2022.isnull().sum()"
   ]
  },
  {
   "cell_type": "markdown",
   "id": "8eed4076",
   "metadata": {},
   "source": [
    "### **DATA 2023**"
   ]
  },
  {
   "cell_type": "code",
   "execution_count": 11,
   "id": "a0040f95",
   "metadata": {},
   "outputs": [
    {
     "data": {
      "text/html": [
       "<div>\n",
       "<style scoped>\n",
       "    .dataframe tbody tr th:only-of-type {\n",
       "        vertical-align: middle;\n",
       "    }\n",
       "\n",
       "    .dataframe tbody tr th {\n",
       "        vertical-align: top;\n",
       "    }\n",
       "\n",
       "    .dataframe thead th {\n",
       "        text-align: right;\n",
       "    }\n",
       "</style>\n",
       "<table border=\"1\" class=\"dataframe\">\n",
       "  <thead>\n",
       "    <tr style=\"text-align: right;\">\n",
       "      <th></th>\n",
       "      <th>date</th>\n",
       "      <th>county</th>\n",
       "      <th>state</th>\n",
       "      <th>fips</th>\n",
       "      <th>cases</th>\n",
       "      <th>deaths</th>\n",
       "    </tr>\n",
       "  </thead>\n",
       "  <tbody>\n",
       "    <tr>\n",
       "      <th>0</th>\n",
       "      <td>2023-01-01</td>\n",
       "      <td>Autauga</td>\n",
       "      <td>Alabama</td>\n",
       "      <td>1001.0</td>\n",
       "      <td>18961</td>\n",
       "      <td>230.0</td>\n",
       "    </tr>\n",
       "    <tr>\n",
       "      <th>1</th>\n",
       "      <td>2023-01-01</td>\n",
       "      <td>Baldwin</td>\n",
       "      <td>Alabama</td>\n",
       "      <td>1003.0</td>\n",
       "      <td>67496</td>\n",
       "      <td>719.0</td>\n",
       "    </tr>\n",
       "    <tr>\n",
       "      <th>2</th>\n",
       "      <td>2023-01-01</td>\n",
       "      <td>Barbour</td>\n",
       "      <td>Alabama</td>\n",
       "      <td>1005.0</td>\n",
       "      <td>7027</td>\n",
       "      <td>111.0</td>\n",
       "    </tr>\n",
       "    <tr>\n",
       "      <th>3</th>\n",
       "      <td>2023-01-01</td>\n",
       "      <td>Bibb</td>\n",
       "      <td>Alabama</td>\n",
       "      <td>1007.0</td>\n",
       "      <td>7692</td>\n",
       "      <td>108.0</td>\n",
       "    </tr>\n",
       "    <tr>\n",
       "      <th>4</th>\n",
       "      <td>2023-01-01</td>\n",
       "      <td>Blount</td>\n",
       "      <td>Alabama</td>\n",
       "      <td>1009.0</td>\n",
       "      <td>17731</td>\n",
       "      <td>260.0</td>\n",
       "    </tr>\n",
       "  </tbody>\n",
       "</table>\n",
       "</div>"
      ],
      "text/plain": [
       "         date   county    state    fips  cases  deaths\n",
       "0  2023-01-01  Autauga  Alabama  1001.0  18961   230.0\n",
       "1  2023-01-01  Baldwin  Alabama  1003.0  67496   719.0\n",
       "2  2023-01-01  Barbour  Alabama  1005.0   7027   111.0\n",
       "3  2023-01-01     Bibb  Alabama  1007.0   7692   108.0\n",
       "4  2023-01-01   Blount  Alabama  1009.0  17731   260.0"
      ]
     },
     "execution_count": 11,
     "metadata": {},
     "output_type": "execute_result"
    }
   ],
   "source": [
    "import pandas as pd\n",
    "\n",
    "data2023 = pd.read_csv(\"D:/TUGAS KAMPUS SEMESTER 4/DATA WAREHOUSE & KOMPUTASI TERDISTRBUSI/PROYEK AKHIR DATWER/covid-19-data-master/us-counties-2023.csv\")\n",
    "data2023.head()"
   ]
  },
  {
   "cell_type": "code",
   "execution_count": 12,
   "id": "7aaff074",
   "metadata": {},
   "outputs": [
    {
     "data": {
      "text/plain": [
       "267009"
      ]
     },
     "execution_count": 12,
     "metadata": {},
     "output_type": "execute_result"
    }
   ],
   "source": [
    "len(data2023)"
   ]
  },
  {
   "cell_type": "code",
   "execution_count": 13,
   "id": "d1f5e5fb",
   "metadata": {},
   "outputs": [
    {
     "name": "stdout",
     "output_type": "stream",
     "text": [
      "Jumlah data per state tahun 2020:\n",
      " state\n",
      "Texas                       67002\n",
      "Georgia                     45209\n",
      "Virginia                    36886\n",
      "Kentucky                    32812\n",
      "Missouri                    31333\n",
      "Illinois                    28236\n",
      "North Carolina              28008\n",
      "Iowa                        27270\n",
      "Tennessee                   26911\n",
      "Kansas                      26861\n",
      "Indiana                     26070\n",
      "Ohio                        24842\n",
      "Minnesota                   24059\n",
      "Michigan                    23370\n",
      "Mississippi                 23254\n",
      "Nebraska                    22583\n",
      "Arkansas                    21184\n",
      "Oklahoma                    21080\n",
      "Wisconsin                   20135\n",
      "Florida                     19498\n",
      "Pennsylvania                19075\n",
      "Puerto Rico                 19055\n",
      "Alabama                     18946\n",
      "Louisiana                   18533\n",
      "Colorado                    17655\n",
      "New York                    16808\n",
      "California                  16801\n",
      "South Dakota                16684\n",
      "West Virginia               14846\n",
      "North Dakota                13607\n",
      "South Carolina              13183\n",
      "Montana                     12768\n",
      "Washington                  11461\n",
      "Idaho                       11270\n",
      "Oregon                       9850\n",
      "New Mexico                   8885\n",
      "Utah                         7979\n",
      "Maryland                     7195\n",
      "Alaska                       6626\n",
      "New Jersey                   6461\n",
      "Wyoming                      6361\n",
      "Maine                        4766\n",
      "Massachusetts                4444\n",
      "Arizona                      4399\n",
      "Nevada                       4341\n",
      "Vermont                      4288\n",
      "New Hampshire                3134\n",
      "Connecticut                  2609\n",
      "Rhode Island                 1716\n",
      "Hawaii                       1228\n",
      "Delaware                     1139\n",
      "Virgin Islands                941\n",
      "Northern Mariana Islands      488\n",
      "District of Columbia          300\n",
      "Guam                          292\n",
      "Name: count, dtype: int64\n"
     ]
    }
   ],
   "source": [
    "# Menghitung jumlah data per state untuk setiap tahun\n",
    "jumlah_per_state_2020 = data2020['state'].value_counts()\n",
    "jumlah_per_state_2021 = data2021['state'].value_counts()\n",
    "jumlah_per_state_2022 = data2022['state'].value_counts()\n",
    "jumlah_per_state_2023 = data2023['state'].value_counts()\n",
    "\n",
    "# Menampilkan hasil\n",
    "print(\"Jumlah data per state tahun 2020:\\n\", jumlah_per_state_2020)"
   ]
  },
  {
   "cell_type": "code",
   "execution_count": 14,
   "id": "ecb66a26",
   "metadata": {},
   "outputs": [
    {
     "name": "stdout",
     "output_type": "stream",
     "text": [
      "\n",
      "Jumlah data per state tahun 2021:\n",
      " state\n",
      "Texas                       92710\n",
      "Georgia                     58400\n",
      "Virginia                    48547\n",
      "Kentucky                    43800\n",
      "Missouri                    42706\n",
      "Kansas                      38432\n",
      "Illinois                    37567\n",
      "North Carolina              36501\n",
      "Iowa                        36500\n",
      "Tennessee                   35040\n",
      "Nebraska                    34170\n",
      "Indiana                     33580\n",
      "Ohio                        32422\n",
      "Minnesota                   32120\n",
      "Michigan                    30660\n",
      "Mississippi                 29930\n",
      "Puerto Rico                 28835\n",
      "Oklahoma                    28469\n",
      "Arkansas                    27740\n",
      "Wisconsin                   26282\n",
      "Florida                     24820\n",
      "Alabama                     24455\n",
      "Pennsylvania                24455\n",
      "South Dakota                24090\n",
      "Louisiana                   23724\n",
      "Colorado                    23360\n",
      "California                  21177\n",
      "New York                    21170\n",
      "Montana                     20440\n",
      "West Virginia               20077\n",
      "North Dakota                19710\n",
      "South Carolina              16790\n",
      "Idaho                       16061\n",
      "Washington                  14235\n",
      "Oregon                      13142\n",
      "New Mexico                  12097\n",
      "Utah                        10950\n",
      "Alaska                      10220\n",
      "Maryland                     9125\n",
      "Wyoming                      8395\n",
      "New Jersey                   8030\n",
      "Nevada                       6205\n",
      "Maine                        6071\n",
      "Arizona                      5508\n",
      "Vermont                      5475\n",
      "Massachusetts                5475\n",
      "New Hampshire                4015\n",
      "Connecticut                  3285\n",
      "Rhode Island                 2190\n",
      "Hawaii                       1956\n",
      "Delaware                     1460\n",
      "Virgin Islands               1124\n",
      "Northern Mariana Islands      839\n",
      "District of Columbia          365\n",
      "Guam                          365\n",
      "American Samoa                106\n",
      "Name: count, dtype: int64\n"
     ]
    }
   ],
   "source": [
    "print(\"\\nJumlah data per state tahun 2021:\\n\", jumlah_per_state_2021)"
   ]
  },
  {
   "cell_type": "code",
   "execution_count": 15,
   "id": "4a1d9b59",
   "metadata": {},
   "outputs": [
    {
     "name": "stdout",
     "output_type": "stream",
     "text": [
      "\n",
      "Jumlah data per state tahun 2022:\n",
      " state\n",
      "Texas                       92771\n",
      "Georgia                     58400\n",
      "Virginia                    48561\n",
      "Kentucky                    43804\n",
      "Missouri                    42705\n",
      "Kansas                      38385\n",
      "Illinois                    37595\n",
      "North Carolina              36500\n",
      "Iowa                        36490\n",
      "Tennessee                   35040\n",
      "Nebraska                    34253\n",
      "Indiana                     33843\n",
      "Ohio                        32434\n",
      "Minnesota                   32120\n",
      "Michigan                    30660\n",
      "Mississippi                 30092\n",
      "Puerto Rico                 28835\n",
      "Oklahoma                    28470\n",
      "Arkansas                    27740\n",
      "Wisconsin                   26280\n",
      "Florida                     24820\n",
      "Pennsylvania                24516\n",
      "Alabama                     24498\n",
      "South Dakota                24090\n",
      "Louisiana                   23725\n",
      "Colorado                    23360\n",
      "California                  21171\n",
      "New York                    21170\n",
      "Montana                     20440\n",
      "West Virginia               20076\n",
      "North Dakota                19710\n",
      "South Carolina              16790\n",
      "Idaho                       16061\n",
      "Washington                  14281\n",
      "Oregon                      13373\n",
      "New Mexico                  12351\n",
      "Utah                        10950\n",
      "Alaska                      10218\n",
      "Maryland                     9078\n",
      "Wyoming                      8395\n",
      "New Jersey                   8030\n",
      "Nevada                       6497\n",
      "Maine                        6197\n",
      "Arizona                      5507\n",
      "Massachusetts                5475\n",
      "Vermont                      5475\n",
      "New Hampshire                4015\n",
      "Connecticut                  3285\n",
      "Hawaii                       2190\n",
      "Rhode Island                 2190\n",
      "Delaware                     1460\n",
      "Northern Mariana Islands     1335\n",
      "Virgin Islands               1240\n",
      "District of Columbia          365\n",
      "American Samoa                365\n",
      "Guam                          365\n",
      "Name: count, dtype: int64\n",
      "\n",
      "Jumlah data per state tahun 2023:\n",
      " state\n",
      "Texas                       20975\n",
      "Georgia                     13120\n",
      "Virginia                    10973\n",
      "Kentucky                     9912\n",
      "Missouri                     9594\n",
      "Kansas                       8610\n",
      "Illinois                     8446\n",
      "North Carolina               8200\n",
      "Iowa                         8166\n",
      "Tennessee                    7872\n",
      "Nebraska                     7626\n",
      "Indiana                      7608\n",
      "Minnesota                    7216\n",
      "Ohio                         7216\n",
      "Michigan                     6888\n",
      "Mississippi                  6751\n",
      "Puerto Rico                  6478\n",
      "Oklahoma                     6396\n",
      "Arkansas                     6232\n",
      "Wisconsin                    5904\n",
      "Florida                      5576\n",
      "Alabama                      5497\n",
      "Pennsylvania                 5494\n",
      "South Dakota                 5412\n",
      "Louisiana                    5330\n",
      "Colorado                     5275\n",
      "California                   4756\n",
      "New York                     4756\n",
      "Montana                      4592\n",
      "West Virginia                4510\n",
      "North Dakota                 4428\n",
      "South Carolina               3773\n",
      "Idaho                        3608\n",
      "Washington                   3280\n",
      "Oregon                       3034\n",
      "New Mexico                   2788\n",
      "Utah                         2460\n",
      "Alaska                       2296\n",
      "Maryland                     1974\n",
      "Wyoming                      1886\n",
      "New Jersey                   1804\n",
      "Nevada                       1476\n",
      "Maine                        1394\n",
      "Vermont                      1230\n",
      "Massachusetts                1230\n",
      "Arizona                      1230\n",
      "New Hampshire                 902\n",
      "Connecticut                   738\n",
      "Hawaii                        492\n",
      "Rhode Island                  492\n",
      "Delaware                      328\n",
      "Virgin Islands                293\n",
      "Northern Mariana Islands      246\n",
      "District of Columbia           82\n",
      "American Samoa                 82\n",
      "Guam                           82\n",
      "Name: count, dtype: int64\n"
     ]
    }
   ],
   "source": [
    "print(\"\\nJumlah data per state tahun 2022:\\n\", jumlah_per_state_2022)\n",
    "print(\"\\nJumlah data per state tahun 2023:\\n\", jumlah_per_state_2023)"
   ]
  },
  {
   "cell_type": "code",
   "execution_count": 16,
   "id": "002282a1",
   "metadata": {},
   "outputs": [
    {
     "name": "stdout",
     "output_type": "stream",
     "text": [
      "Jumlah state unik di 2020: 55\n",
      "Jumlah state unik di 2021: 56\n",
      "Jumlah state unik di 2022: 56\n",
      "Jumlah state unik di 2023: 56\n"
     ]
    }
   ],
   "source": [
    "jumlah_state_unik_2020 = data2020['state'].nunique()\n",
    "jumlah_state_unik_2021 = data2021['state'].nunique()\n",
    "jumlah_state_unik_2022 = data2022['state'].nunique()\n",
    "jumlah_state_unik_2023 = data2023['state'].nunique()\n",
    "\n",
    "print(\"Jumlah state unik di 2020:\", jumlah_state_unik_2020)\n",
    "print(\"Jumlah state unik di 2021:\", jumlah_state_unik_2021)\n",
    "print(\"Jumlah state unik di 2022:\", jumlah_state_unik_2022)\n",
    "print(\"Jumlah state unik di 2023:\", jumlah_state_unik_2023)"
   ]
  },
  {
   "cell_type": "code",
   "execution_count": 17,
   "id": "0f2b80f8",
   "metadata": {},
   "outputs": [
    {
     "name": "stdout",
     "output_type": "stream",
     "text": [
      "State yang ada di 2021 tapi tidak ada di 2020:\n",
      "{'American Samoa'}\n"
     ]
    }
   ],
   "source": [
    "states_2020 = set(data2020['state'].unique())\n",
    "states_2021 = set(data2021['state'].unique())\n",
    "\n",
    "states_only_2021 = states_2021 - states_2020\n",
    "print(\"State yang ada di 2021 tapi tidak ada di 2020:\")\n",
    "print(states_only_2021)"
   ]
  },
  {
   "cell_type": "markdown",
   "id": "8d73bb48",
   "metadata": {},
   "source": [
    "## **PREPROCESSING**"
   ]
  },
  {
   "cell_type": "markdown",
   "id": "956b46de",
   "metadata": {},
   "source": [
    "### **DATA 2020**"
   ]
  },
  {
   "cell_type": "code",
   "execution_count": 18,
   "id": "57c344b0",
   "metadata": {},
   "outputs": [
    {
     "data": {
      "text/plain": [
       "date      object\n",
       "county    object\n",
       "state     object\n",
       "fips       int64\n",
       "cases      int64\n",
       "deaths     int64\n",
       "dtype: object"
      ]
     },
     "execution_count": 18,
     "metadata": {},
     "output_type": "execute_result"
    }
   ],
   "source": [
    "for col in data2020.select_dtypes(include=['float']).columns:\n",
    "    data2020[col] = data2020[col].fillna(0).astype(int)\n",
    "    \n",
    "data2020.dtypes"
   ]
  },
  {
   "cell_type": "code",
   "execution_count": 19,
   "id": "cb29679a",
   "metadata": {},
   "outputs": [
    {
     "name": "stdout",
     "output_type": "stream",
     "text": [
      "date      0\n",
      "county    0\n",
      "state     0\n",
      "fips      0\n",
      "cases     0\n",
      "deaths    0\n",
      "dtype: int64\n"
     ]
    }
   ],
   "source": [
    "for col in data2020.select_dtypes(include=['float']).columns:\n",
    "    mean_value = data2020[col].mean()\n",
    "    data2020[col] = data2020[col].fillna(mean_value)\n",
    "\n",
    "print(data2020.isnull().sum())"
   ]
  },
  {
   "cell_type": "code",
   "execution_count": 20,
   "id": "862882d1",
   "metadata": {},
   "outputs": [
    {
     "data": {
      "text/plain": [
       "dtype('<M8[ns]')"
      ]
     },
     "execution_count": 20,
     "metadata": {},
     "output_type": "execute_result"
    }
   ],
   "source": [
    "data2020['date'] = pd.to_datetime(data2020['date'], errors='coerce')\n",
    "data2020.dtypes['date']"
   ]
  },
  {
   "cell_type": "code",
   "execution_count": 21,
   "id": "388fc397",
   "metadata": {},
   "outputs": [
    {
     "data": {
      "text/html": [
       "<div>\n",
       "<style scoped>\n",
       "    .dataframe tbody tr th:only-of-type {\n",
       "        vertical-align: middle;\n",
       "    }\n",
       "\n",
       "    .dataframe tbody tr th {\n",
       "        vertical-align: top;\n",
       "    }\n",
       "\n",
       "    .dataframe thead th {\n",
       "        text-align: right;\n",
       "    }\n",
       "</style>\n",
       "<table border=\"1\" class=\"dataframe\">\n",
       "  <thead>\n",
       "    <tr style=\"text-align: right;\">\n",
       "      <th></th>\n",
       "      <th>date</th>\n",
       "      <th>county</th>\n",
       "      <th>state</th>\n",
       "      <th>fips</th>\n",
       "      <th>cases</th>\n",
       "      <th>deaths</th>\n",
       "    </tr>\n",
       "  </thead>\n",
       "  <tbody>\n",
       "    <tr>\n",
       "      <th>0</th>\n",
       "      <td>2020-01-21</td>\n",
       "      <td>Snohomish</td>\n",
       "      <td>Washington</td>\n",
       "      <td>53061</td>\n",
       "      <td>1</td>\n",
       "      <td>0</td>\n",
       "    </tr>\n",
       "    <tr>\n",
       "      <th>1</th>\n",
       "      <td>2020-01-22</td>\n",
       "      <td>Snohomish</td>\n",
       "      <td>Washington</td>\n",
       "      <td>53061</td>\n",
       "      <td>1</td>\n",
       "      <td>0</td>\n",
       "    </tr>\n",
       "    <tr>\n",
       "      <th>2</th>\n",
       "      <td>2020-01-23</td>\n",
       "      <td>Snohomish</td>\n",
       "      <td>Washington</td>\n",
       "      <td>53061</td>\n",
       "      <td>1</td>\n",
       "      <td>0</td>\n",
       "    </tr>\n",
       "    <tr>\n",
       "      <th>3</th>\n",
       "      <td>2020-01-24</td>\n",
       "      <td>Cook</td>\n",
       "      <td>Illinois</td>\n",
       "      <td>17031</td>\n",
       "      <td>1</td>\n",
       "      <td>0</td>\n",
       "    </tr>\n",
       "    <tr>\n",
       "      <th>4</th>\n",
       "      <td>2020-01-24</td>\n",
       "      <td>Snohomish</td>\n",
       "      <td>Washington</td>\n",
       "      <td>53061</td>\n",
       "      <td>1</td>\n",
       "      <td>0</td>\n",
       "    </tr>\n",
       "    <tr>\n",
       "      <th>...</th>\n",
       "      <td>...</td>\n",
       "      <td>...</td>\n",
       "      <td>...</td>\n",
       "      <td>...</td>\n",
       "      <td>...</td>\n",
       "      <td>...</td>\n",
       "    </tr>\n",
       "    <tr>\n",
       "      <th>884732</th>\n",
       "      <td>2020-12-31</td>\n",
       "      <td>Sweetwater</td>\n",
       "      <td>Wyoming</td>\n",
       "      <td>56037</td>\n",
       "      <td>2966</td>\n",
       "      <td>16</td>\n",
       "    </tr>\n",
       "    <tr>\n",
       "      <th>884733</th>\n",
       "      <td>2020-12-31</td>\n",
       "      <td>Teton</td>\n",
       "      <td>Wyoming</td>\n",
       "      <td>56039</td>\n",
       "      <td>2138</td>\n",
       "      <td>4</td>\n",
       "    </tr>\n",
       "    <tr>\n",
       "      <th>884734</th>\n",
       "      <td>2020-12-31</td>\n",
       "      <td>Uinta</td>\n",
       "      <td>Wyoming</td>\n",
       "      <td>56041</td>\n",
       "      <td>1558</td>\n",
       "      <td>7</td>\n",
       "    </tr>\n",
       "    <tr>\n",
       "      <th>884735</th>\n",
       "      <td>2020-12-31</td>\n",
       "      <td>Washakie</td>\n",
       "      <td>Wyoming</td>\n",
       "      <td>56043</td>\n",
       "      <td>780</td>\n",
       "      <td>19</td>\n",
       "    </tr>\n",
       "    <tr>\n",
       "      <th>884736</th>\n",
       "      <td>2020-12-31</td>\n",
       "      <td>Weston</td>\n",
       "      <td>Wyoming</td>\n",
       "      <td>56045</td>\n",
       "      <td>476</td>\n",
       "      <td>2</td>\n",
       "    </tr>\n",
       "  </tbody>\n",
       "</table>\n",
       "<p>884737 rows × 6 columns</p>\n",
       "</div>"
      ],
      "text/plain": [
       "             date      county       state   fips  cases  deaths\n",
       "0      2020-01-21   Snohomish  Washington  53061      1       0\n",
       "1      2020-01-22   Snohomish  Washington  53061      1       0\n",
       "2      2020-01-23   Snohomish  Washington  53061      1       0\n",
       "3      2020-01-24        Cook    Illinois  17031      1       0\n",
       "4      2020-01-24   Snohomish  Washington  53061      1       0\n",
       "...           ...         ...         ...    ...    ...     ...\n",
       "884732 2020-12-31  Sweetwater     Wyoming  56037   2966      16\n",
       "884733 2020-12-31       Teton     Wyoming  56039   2138       4\n",
       "884734 2020-12-31       Uinta     Wyoming  56041   1558       7\n",
       "884735 2020-12-31    Washakie     Wyoming  56043    780      19\n",
       "884736 2020-12-31      Weston     Wyoming  56045    476       2\n",
       "\n",
       "[884737 rows x 6 columns]"
      ]
     },
     "execution_count": 21,
     "metadata": {},
     "output_type": "execute_result"
    }
   ],
   "source": [
    "data2020"
   ]
  },
  {
   "cell_type": "markdown",
   "id": "a35e832c",
   "metadata": {},
   "source": [
    "### **DATA 2021**"
   ]
  },
  {
   "cell_type": "code",
   "execution_count": 22,
   "id": "389a1100",
   "metadata": {},
   "outputs": [
    {
     "data": {
      "text/plain": [
       "date      datetime64[ns]\n",
       "county            object\n",
       "state             object\n",
       "fips               int64\n",
       "cases              int64\n",
       "deaths             int64\n",
       "dtype: object"
      ]
     },
     "execution_count": 22,
     "metadata": {},
     "output_type": "execute_result"
    }
   ],
   "source": [
    "for col in data2021.select_dtypes(include=['float']).columns:\n",
    "    data2021[col] = data2021[col].fillna(0).astype(int)\n",
    "    \n",
    "data2020.dtypes"
   ]
  },
  {
   "cell_type": "code",
   "execution_count": 23,
   "id": "c861996d",
   "metadata": {},
   "outputs": [
    {
     "data": {
      "text/plain": [
       "dtype('<M8[ns]')"
      ]
     },
     "execution_count": 23,
     "metadata": {},
     "output_type": "execute_result"
    }
   ],
   "source": [
    "data2021['date'] = pd.to_datetime(data2021['date'], errors='coerce')\n",
    "data2021.dtypes['date']"
   ]
  },
  {
   "cell_type": "code",
   "execution_count": 24,
   "id": "0c15181d",
   "metadata": {},
   "outputs": [
    {
     "name": "stdout",
     "output_type": "stream",
     "text": [
      "date      0\n",
      "county    0\n",
      "state     0\n",
      "fips      0\n",
      "cases     0\n",
      "deaths    0\n",
      "dtype: int64\n"
     ]
    }
   ],
   "source": [
    "for col in data2021.select_dtypes(include=['float']).columns:\n",
    "    mean_value = data2021[col].mean()\n",
    "    data2021[col] = data2021[col].fillna(mean_value)\n",
    "\n",
    "print(data2021.isnull().sum())"
   ]
  },
  {
   "cell_type": "code",
   "execution_count": 25,
   "id": "eafa1867",
   "metadata": {},
   "outputs": [
    {
     "data": {
      "text/html": [
       "<div>\n",
       "<style scoped>\n",
       "    .dataframe tbody tr th:only-of-type {\n",
       "        vertical-align: middle;\n",
       "    }\n",
       "\n",
       "    .dataframe tbody tr th {\n",
       "        vertical-align: top;\n",
       "    }\n",
       "\n",
       "    .dataframe thead th {\n",
       "        text-align: right;\n",
       "    }\n",
       "</style>\n",
       "<table border=\"1\" class=\"dataframe\">\n",
       "  <thead>\n",
       "    <tr style=\"text-align: right;\">\n",
       "      <th></th>\n",
       "      <th>date</th>\n",
       "      <th>county</th>\n",
       "      <th>state</th>\n",
       "      <th>fips</th>\n",
       "      <th>cases</th>\n",
       "      <th>deaths</th>\n",
       "    </tr>\n",
       "  </thead>\n",
       "  <tbody>\n",
       "    <tr>\n",
       "      <th>0</th>\n",
       "      <td>2021-01-01</td>\n",
       "      <td>Autauga</td>\n",
       "      <td>Alabama</td>\n",
       "      <td>1001</td>\n",
       "      <td>4239</td>\n",
       "      <td>50</td>\n",
       "    </tr>\n",
       "    <tr>\n",
       "      <th>1</th>\n",
       "      <td>2021-01-01</td>\n",
       "      <td>Baldwin</td>\n",
       "      <td>Alabama</td>\n",
       "      <td>1003</td>\n",
       "      <td>13823</td>\n",
       "      <td>169</td>\n",
       "    </tr>\n",
       "    <tr>\n",
       "      <th>2</th>\n",
       "      <td>2021-01-01</td>\n",
       "      <td>Barbour</td>\n",
       "      <td>Alabama</td>\n",
       "      <td>1005</td>\n",
       "      <td>1517</td>\n",
       "      <td>33</td>\n",
       "    </tr>\n",
       "    <tr>\n",
       "      <th>3</th>\n",
       "      <td>2021-01-01</td>\n",
       "      <td>Bibb</td>\n",
       "      <td>Alabama</td>\n",
       "      <td>1007</td>\n",
       "      <td>1854</td>\n",
       "      <td>46</td>\n",
       "    </tr>\n",
       "    <tr>\n",
       "      <th>4</th>\n",
       "      <td>2021-01-01</td>\n",
       "      <td>Blount</td>\n",
       "      <td>Alabama</td>\n",
       "      <td>1009</td>\n",
       "      <td>4693</td>\n",
       "      <td>63</td>\n",
       "    </tr>\n",
       "    <tr>\n",
       "      <th>...</th>\n",
       "      <td>...</td>\n",
       "      <td>...</td>\n",
       "      <td>...</td>\n",
       "      <td>...</td>\n",
       "      <td>...</td>\n",
       "      <td>...</td>\n",
       "    </tr>\n",
       "    <tr>\n",
       "      <th>1185368</th>\n",
       "      <td>2021-12-31</td>\n",
       "      <td>Sweetwater</td>\n",
       "      <td>Wyoming</td>\n",
       "      <td>56037</td>\n",
       "      <td>8320</td>\n",
       "      <td>107</td>\n",
       "    </tr>\n",
       "    <tr>\n",
       "      <th>1185369</th>\n",
       "      <td>2021-12-31</td>\n",
       "      <td>Teton</td>\n",
       "      <td>Wyoming</td>\n",
       "      <td>56039</td>\n",
       "      <td>5950</td>\n",
       "      <td>14</td>\n",
       "    </tr>\n",
       "    <tr>\n",
       "      <th>1185370</th>\n",
       "      <td>2021-12-31</td>\n",
       "      <td>Uinta</td>\n",
       "      <td>Wyoming</td>\n",
       "      <td>56041</td>\n",
       "      <td>4154</td>\n",
       "      <td>31</td>\n",
       "    </tr>\n",
       "    <tr>\n",
       "      <th>1185371</th>\n",
       "      <td>2021-12-31</td>\n",
       "      <td>Washakie</td>\n",
       "      <td>Wyoming</td>\n",
       "      <td>56043</td>\n",
       "      <td>1879</td>\n",
       "      <td>37</td>\n",
       "    </tr>\n",
       "    <tr>\n",
       "      <th>1185372</th>\n",
       "      <td>2021-12-31</td>\n",
       "      <td>Weston</td>\n",
       "      <td>Wyoming</td>\n",
       "      <td>56045</td>\n",
       "      <td>1254</td>\n",
       "      <td>14</td>\n",
       "    </tr>\n",
       "  </tbody>\n",
       "</table>\n",
       "<p>1185373 rows × 6 columns</p>\n",
       "</div>"
      ],
      "text/plain": [
       "              date      county    state   fips  cases  deaths\n",
       "0       2021-01-01     Autauga  Alabama   1001   4239      50\n",
       "1       2021-01-01     Baldwin  Alabama   1003  13823     169\n",
       "2       2021-01-01     Barbour  Alabama   1005   1517      33\n",
       "3       2021-01-01        Bibb  Alabama   1007   1854      46\n",
       "4       2021-01-01      Blount  Alabama   1009   4693      63\n",
       "...            ...         ...      ...    ...    ...     ...\n",
       "1185368 2021-12-31  Sweetwater  Wyoming  56037   8320     107\n",
       "1185369 2021-12-31       Teton  Wyoming  56039   5950      14\n",
       "1185370 2021-12-31       Uinta  Wyoming  56041   4154      31\n",
       "1185371 2021-12-31    Washakie  Wyoming  56043   1879      37\n",
       "1185372 2021-12-31      Weston  Wyoming  56045   1254      14\n",
       "\n",
       "[1185373 rows x 6 columns]"
      ]
     },
     "execution_count": 25,
     "metadata": {},
     "output_type": "execute_result"
    }
   ],
   "source": [
    "data2021"
   ]
  },
  {
   "cell_type": "markdown",
   "id": "5432880d",
   "metadata": {},
   "source": [
    "### **DATA 2022**"
   ]
  },
  {
   "cell_type": "code",
   "execution_count": 26,
   "id": "a5327769",
   "metadata": {},
   "outputs": [
    {
     "data": {
      "text/plain": [
       "date      object\n",
       "county    object\n",
       "state     object\n",
       "fips       int64\n",
       "cases      int64\n",
       "deaths     int64\n",
       "dtype: object"
      ]
     },
     "execution_count": 26,
     "metadata": {},
     "output_type": "execute_result"
    }
   ],
   "source": [
    "for col in data2022.select_dtypes(include=['float']).columns:\n",
    "    data2022[col] = data2022[col].fillna(0).astype(int)\n",
    "    \n",
    "data2022.dtypes"
   ]
  },
  {
   "cell_type": "code",
   "execution_count": 27,
   "id": "195c2ce6",
   "metadata": {},
   "outputs": [
    {
     "data": {
      "text/plain": [
       "dtype('<M8[ns]')"
      ]
     },
     "execution_count": 27,
     "metadata": {},
     "output_type": "execute_result"
    }
   ],
   "source": [
    "data2022['date'] = pd.to_datetime(data2022['date'], errors='coerce')\n",
    "data2022.dtypes['date']"
   ]
  },
  {
   "cell_type": "code",
   "execution_count": 28,
   "id": "f2596155",
   "metadata": {},
   "outputs": [
    {
     "name": "stdout",
     "output_type": "stream",
     "text": [
      "date      0\n",
      "county    0\n",
      "state     0\n",
      "fips      0\n",
      "cases     0\n",
      "deaths    0\n",
      "dtype: int64\n"
     ]
    }
   ],
   "source": [
    "for col in data2022.select_dtypes(include=['float']).columns:\n",
    "    mean_value = data2022[col].mean()\n",
    "    data2022[col] = data2022[col].fillna(mean_value)\n",
    "\n",
    "print(data2022.isnull().sum())"
   ]
  },
  {
   "cell_type": "code",
   "execution_count": 29,
   "id": "efc35e9a",
   "metadata": {},
   "outputs": [
    {
     "data": {
      "text/html": [
       "<div>\n",
       "<style scoped>\n",
       "    .dataframe tbody tr th:only-of-type {\n",
       "        vertical-align: middle;\n",
       "    }\n",
       "\n",
       "    .dataframe tbody tr th {\n",
       "        vertical-align: top;\n",
       "    }\n",
       "\n",
       "    .dataframe thead th {\n",
       "        text-align: right;\n",
       "    }\n",
       "</style>\n",
       "<table border=\"1\" class=\"dataframe\">\n",
       "  <thead>\n",
       "    <tr style=\"text-align: right;\">\n",
       "      <th></th>\n",
       "      <th>date</th>\n",
       "      <th>county</th>\n",
       "      <th>state</th>\n",
       "      <th>fips</th>\n",
       "      <th>cases</th>\n",
       "      <th>deaths</th>\n",
       "    </tr>\n",
       "  </thead>\n",
       "  <tbody>\n",
       "    <tr>\n",
       "      <th>0</th>\n",
       "      <td>2022-01-01</td>\n",
       "      <td>Autauga</td>\n",
       "      <td>Alabama</td>\n",
       "      <td>1001</td>\n",
       "      <td>11018</td>\n",
       "      <td>160</td>\n",
       "    </tr>\n",
       "    <tr>\n",
       "      <th>1</th>\n",
       "      <td>2022-01-01</td>\n",
       "      <td>Baldwin</td>\n",
       "      <td>Alabama</td>\n",
       "      <td>1003</td>\n",
       "      <td>39911</td>\n",
       "      <td>593</td>\n",
       "    </tr>\n",
       "    <tr>\n",
       "      <th>2</th>\n",
       "      <td>2022-01-01</td>\n",
       "      <td>Barbour</td>\n",
       "      <td>Alabama</td>\n",
       "      <td>1005</td>\n",
       "      <td>3860</td>\n",
       "      <td>81</td>\n",
       "    </tr>\n",
       "    <tr>\n",
       "      <th>3</th>\n",
       "      <td>2022-01-01</td>\n",
       "      <td>Bibb</td>\n",
       "      <td>Alabama</td>\n",
       "      <td>1007</td>\n",
       "      <td>4533</td>\n",
       "      <td>95</td>\n",
       "    </tr>\n",
       "    <tr>\n",
       "      <th>4</th>\n",
       "      <td>2022-01-01</td>\n",
       "      <td>Blount</td>\n",
       "      <td>Alabama</td>\n",
       "      <td>1009</td>\n",
       "      <td>11256</td>\n",
       "      <td>198</td>\n",
       "    </tr>\n",
       "    <tr>\n",
       "      <th>...</th>\n",
       "      <td>...</td>\n",
       "      <td>...</td>\n",
       "      <td>...</td>\n",
       "      <td>...</td>\n",
       "      <td>...</td>\n",
       "      <td>...</td>\n",
       "    </tr>\n",
       "    <tr>\n",
       "      <th>1188037</th>\n",
       "      <td>2022-12-31</td>\n",
       "      <td>Sweetwater</td>\n",
       "      <td>Wyoming</td>\n",
       "      <td>56037</td>\n",
       "      <td>12410</td>\n",
       "      <td>136</td>\n",
       "    </tr>\n",
       "    <tr>\n",
       "      <th>1188038</th>\n",
       "      <td>2022-12-31</td>\n",
       "      <td>Teton</td>\n",
       "      <td>Wyoming</td>\n",
       "      <td>56039</td>\n",
       "      <td>12010</td>\n",
       "      <td>16</td>\n",
       "    </tr>\n",
       "    <tr>\n",
       "      <th>1188039</th>\n",
       "      <td>2022-12-31</td>\n",
       "      <td>Uinta</td>\n",
       "      <td>Wyoming</td>\n",
       "      <td>56041</td>\n",
       "      <td>6305</td>\n",
       "      <td>43</td>\n",
       "    </tr>\n",
       "    <tr>\n",
       "      <th>1188040</th>\n",
       "      <td>2022-12-31</td>\n",
       "      <td>Washakie</td>\n",
       "      <td>Wyoming</td>\n",
       "      <td>56043</td>\n",
       "      <td>2721</td>\n",
       "      <td>47</td>\n",
       "    </tr>\n",
       "    <tr>\n",
       "      <th>1188041</th>\n",
       "      <td>2022-12-31</td>\n",
       "      <td>Weston</td>\n",
       "      <td>Wyoming</td>\n",
       "      <td>56045</td>\n",
       "      <td>1880</td>\n",
       "      <td>22</td>\n",
       "    </tr>\n",
       "  </tbody>\n",
       "</table>\n",
       "<p>1188042 rows × 6 columns</p>\n",
       "</div>"
      ],
      "text/plain": [
       "              date      county    state   fips  cases  deaths\n",
       "0       2022-01-01     Autauga  Alabama   1001  11018     160\n",
       "1       2022-01-01     Baldwin  Alabama   1003  39911     593\n",
       "2       2022-01-01     Barbour  Alabama   1005   3860      81\n",
       "3       2022-01-01        Bibb  Alabama   1007   4533      95\n",
       "4       2022-01-01      Blount  Alabama   1009  11256     198\n",
       "...            ...         ...      ...    ...    ...     ...\n",
       "1188037 2022-12-31  Sweetwater  Wyoming  56037  12410     136\n",
       "1188038 2022-12-31       Teton  Wyoming  56039  12010      16\n",
       "1188039 2022-12-31       Uinta  Wyoming  56041   6305      43\n",
       "1188040 2022-12-31    Washakie  Wyoming  56043   2721      47\n",
       "1188041 2022-12-31      Weston  Wyoming  56045   1880      22\n",
       "\n",
       "[1188042 rows x 6 columns]"
      ]
     },
     "execution_count": 29,
     "metadata": {},
     "output_type": "execute_result"
    }
   ],
   "source": [
    "data2022"
   ]
  },
  {
   "cell_type": "markdown",
   "id": "dbf2ee85",
   "metadata": {},
   "source": [
    "### **DATA 2023**"
   ]
  },
  {
   "cell_type": "code",
   "execution_count": 30,
   "id": "6dda97b5",
   "metadata": {},
   "outputs": [
    {
     "data": {
      "text/plain": [
       "date      object\n",
       "county    object\n",
       "state     object\n",
       "fips       int64\n",
       "cases      int64\n",
       "deaths     int64\n",
       "dtype: object"
      ]
     },
     "execution_count": 30,
     "metadata": {},
     "output_type": "execute_result"
    }
   ],
   "source": [
    "for col in data2023.select_dtypes(include=['float']).columns:\n",
    "    data2023[col] = data2023[col].fillna(0).astype(int)\n",
    "    \n",
    "data2023.dtypes"
   ]
  },
  {
   "cell_type": "code",
   "execution_count": 31,
   "id": "29ff860c",
   "metadata": {},
   "outputs": [
    {
     "data": {
      "text/plain": [
       "dtype('<M8[ns]')"
      ]
     },
     "execution_count": 31,
     "metadata": {},
     "output_type": "execute_result"
    }
   ],
   "source": [
    "data2023['date'] = pd.to_datetime(data2023['date'], errors='coerce')\n",
    "data2023.dtypes['date']"
   ]
  },
  {
   "cell_type": "code",
   "execution_count": 32,
   "id": "d5cb5fc5",
   "metadata": {},
   "outputs": [
    {
     "name": "stdout",
     "output_type": "stream",
     "text": [
      "date      0\n",
      "county    0\n",
      "state     0\n",
      "fips      0\n",
      "cases     0\n",
      "deaths    0\n",
      "dtype: int64\n"
     ]
    }
   ],
   "source": [
    "for col in data2023.select_dtypes(include=['float']).columns:\n",
    "    mean_value = data2023[col].mean()\n",
    "    data2023[col] = data2023[col].fillna(mean_value)\n",
    "\n",
    "print(data2023.isnull().sum())"
   ]
  },
  {
   "cell_type": "code",
   "execution_count": 33,
   "id": "e3095d53",
   "metadata": {},
   "outputs": [
    {
     "name": "stdout",
     "output_type": "stream",
     "text": [
      "States yang TIDAK muncul lengkap di 2020–2023:\n",
      "\n",
      "- American Samoa: muncul di tahun [2021, 2022, 2023]\n"
     ]
    }
   ],
   "source": [
    "states_2020 = set(data2020['state'].unique())\n",
    "states_2021 = set(data2021['state'].unique())\n",
    "states_2022 = set(data2022['state'].unique())\n",
    "states_2023 = set(data2023['state'].unique())\n",
    "\n",
    "all_states = states_2020 | states_2021 | states_2022 | states_2023\n",
    "\n",
    "state_year_map = {state: [] for state in all_states}\n",
    "\n",
    "for state in all_states:\n",
    "    if state in states_2020:\n",
    "        state_year_map[state].append(2020)\n",
    "    if state in states_2021:\n",
    "        state_year_map[state].append(2021)\n",
    "    if state in states_2022:\n",
    "        state_year_map[state].append(2022)\n",
    "    if state in states_2023:\n",
    "        state_year_map[state].append(2023)\n",
    "\n",
    "incomplete_states = {state: years for state, years in state_year_map.items() if set(years) != {2020, 2021, 2022, 2023}}\n",
    "\n",
    "print(\"States yang TIDAK muncul lengkap di 2020–2023:\\n\")\n",
    "for state, years in incomplete_states.items():\n",
    "    print(f\"- {state}: muncul di tahun {years}\")"
   ]
  },
  {
   "cell_type": "code",
   "execution_count": 34,
   "id": "2dcbda7e",
   "metadata": {},
   "outputs": [],
   "source": [
    "df_covid = pd.concat([data2020, data2021, data2022, data2023], ignore_index=True)"
   ]
  },
  {
   "cell_type": "markdown",
   "id": "1bdf9792",
   "metadata": {},
   "source": [
    "### **DATA RECENT**\n"
   ]
  },
  {
   "cell_type": "code",
   "execution_count": 35,
   "id": "587b76d9",
   "metadata": {},
   "outputs": [
    {
     "data": {
      "text/html": [
       "<div>\n",
       "<style scoped>\n",
       "    .dataframe tbody tr th:only-of-type {\n",
       "        vertical-align: middle;\n",
       "    }\n",
       "\n",
       "    .dataframe tbody tr th {\n",
       "        vertical-align: top;\n",
       "    }\n",
       "\n",
       "    .dataframe thead th {\n",
       "        text-align: right;\n",
       "    }\n",
       "</style>\n",
       "<table border=\"1\" class=\"dataframe\">\n",
       "  <thead>\n",
       "    <tr style=\"text-align: right;\">\n",
       "      <th></th>\n",
       "      <th>date</th>\n",
       "      <th>county</th>\n",
       "      <th>state</th>\n",
       "      <th>fips</th>\n",
       "      <th>cases</th>\n",
       "      <th>deaths</th>\n",
       "    </tr>\n",
       "  </thead>\n",
       "  <tbody>\n",
       "    <tr>\n",
       "      <th>0</th>\n",
       "      <td>2023-02-22</td>\n",
       "      <td>Autauga</td>\n",
       "      <td>Alabama</td>\n",
       "      <td>1001.0</td>\n",
       "      <td>19732</td>\n",
       "      <td>230.0</td>\n",
       "    </tr>\n",
       "    <tr>\n",
       "      <th>1</th>\n",
       "      <td>2023-02-22</td>\n",
       "      <td>Baldwin</td>\n",
       "      <td>Alabama</td>\n",
       "      <td>1003.0</td>\n",
       "      <td>69641</td>\n",
       "      <td>724.0</td>\n",
       "    </tr>\n",
       "    <tr>\n",
       "      <th>2</th>\n",
       "      <td>2023-02-22</td>\n",
       "      <td>Barbour</td>\n",
       "      <td>Alabama</td>\n",
       "      <td>1005.0</td>\n",
       "      <td>7451</td>\n",
       "      <td>112.0</td>\n",
       "    </tr>\n",
       "    <tr>\n",
       "      <th>3</th>\n",
       "      <td>2023-02-22</td>\n",
       "      <td>Bibb</td>\n",
       "      <td>Alabama</td>\n",
       "      <td>1007.0</td>\n",
       "      <td>8067</td>\n",
       "      <td>109.0</td>\n",
       "    </tr>\n",
       "    <tr>\n",
       "      <th>4</th>\n",
       "      <td>2023-02-22</td>\n",
       "      <td>Blount</td>\n",
       "      <td>Alabama</td>\n",
       "      <td>1009.0</td>\n",
       "      <td>18616</td>\n",
       "      <td>261.0</td>\n",
       "    </tr>\n",
       "  </tbody>\n",
       "</table>\n",
       "</div>"
      ],
      "text/plain": [
       "         date   county    state    fips  cases  deaths\n",
       "0  2023-02-22  Autauga  Alabama  1001.0  19732   230.0\n",
       "1  2023-02-22  Baldwin  Alabama  1003.0  69641   724.0\n",
       "2  2023-02-22  Barbour  Alabama  1005.0   7451   112.0\n",
       "3  2023-02-22     Bibb  Alabama  1007.0   8067   109.0\n",
       "4  2023-02-22   Blount  Alabama  1009.0  18616   261.0"
      ]
     },
     "execution_count": 35,
     "metadata": {},
     "output_type": "execute_result"
    }
   ],
   "source": [
    "import pandas as pd\n",
    "datarecent = pd.read_csv(\"D:/TUGAS KAMPUS SEMESTER 4/DATA WAREHOUSE & KOMPUTASI TERDISTRBUSI/PROYEK AKHIR DATWER/covid-19-data-master/us-counties-recent.csv\")\n",
    "datarecent.head()"
   ]
  },
  {
   "cell_type": "code",
   "execution_count": 36,
   "id": "b51f5da7",
   "metadata": {},
   "outputs": [
    {
     "name": "stdout",
     "output_type": "stream",
     "text": [
      "Tidak ada state di df_covid yang hilang dari datarecent.\n"
     ]
    }
   ],
   "source": [
    "states_covid = set(df_covid['state'].unique())\n",
    "states_recent = set(datarecent['state'].unique())\n",
    "states_only_in_covid = states_covid - states_recent\n",
    "if states_only_in_covid:\n",
    "    print(\"State yang ada di df_covid tapi tidak ada di datarecent:\")\n",
    "    print(states_only_in_covid)\n",
    "else:\n",
    "    print(\"Tidak ada state di df_covid yang hilang dari datarecent.\")"
   ]
  },
  {
   "cell_type": "markdown",
   "id": "eead0fb5",
   "metadata": {},
   "source": [
    "### **GABUNGKAN DATA**"
   ]
  },
  {
   "cell_type": "code",
   "execution_count": 37,
   "id": "f342d4e6",
   "metadata": {},
   "outputs": [],
   "source": [
    "data_covid = pd.concat([df_covid, datarecent], ignore_index=True)"
   ]
  },
  {
   "cell_type": "code",
   "execution_count": 38,
   "id": "b9c2bfaf",
   "metadata": {},
   "outputs": [
    {
     "name": "stdout",
     "output_type": "stream",
     "text": [
      "date      0\n",
      "county    0\n",
      "state     0\n",
      "fips      0\n",
      "cases     0\n",
      "deaths    0\n",
      "dtype: int64\n",
      "date      object\n",
      "county    object\n",
      "state     object\n",
      "fips       int64\n",
      "cases      int64\n",
      "deaths     int64\n",
      "dtype: object\n"
     ]
    }
   ],
   "source": [
    "for col in data_covid.select_dtypes(include=['float']).columns:\n",
    "    mean_value = data_covid[col].mean()\n",
    "    data_covid[col] = data_covid[col].fillna(mean_value)\n",
    "    data_covid[col] = data_covid[col].astype(int) \n",
    "\n",
    "print(data_covid.isnull().sum())\n",
    "print(data_covid.dtypes)  "
   ]
  },
  {
   "cell_type": "code",
   "execution_count": 39,
   "id": "b9484e0e",
   "metadata": {},
   "outputs": [
    {
     "name": "stdout",
     "output_type": "stream",
     "text": [
      "=== Missing Values per Kolom ===\n",
      "date      0\n",
      "county    0\n",
      "state     0\n",
      "fips      0\n",
      "cases     0\n",
      "deaths    0\n",
      "dtype: int64\n"
     ]
    }
   ],
   "source": [
    "missing_values = data_covid.isnull().sum()\n",
    "print(\"=== Missing Values per Kolom ===\")\n",
    "print(missing_values)"
   ]
  },
  {
   "cell_type": "code",
   "execution_count": 40,
   "id": "957d2a56",
   "metadata": {},
   "outputs": [
    {
     "name": "stdout",
     "output_type": "stream",
     "text": [
      "\n",
      "Jumlah baris duplikat: 0\n"
     ]
    }
   ],
   "source": [
    "duplikat_count = data_covid.duplicated().sum()\n",
    "print(f\"\\nJumlah baris duplikat: {duplikat_count}\")"
   ]
  },
  {
   "cell_type": "code",
   "execution_count": 41,
   "id": "4577e4fd",
   "metadata": {},
   "outputs": [
    {
     "name": "stdout",
     "output_type": "stream",
     "text": [
      "\n",
      "Contoh data setelah penambahan kolom tahun, bulan, minggu:\n",
      "        date  year  month  week\n",
      "0 2020-01-21  2020      1     4\n",
      "1 2020-01-22  2020      1     4\n",
      "2 2020-01-23  2020      1     4\n",
      "3 2020-01-24  2020      1     4\n",
      "4 2020-01-24  2020      1     4\n"
     ]
    }
   ],
   "source": [
    "data_covid['date'] = pd.to_datetime(data_covid['date'], errors='coerce')  \n",
    "\n",
    "data_covid['year'] = data_covid['date'].dt.year\n",
    "data_covid['month'] = data_covid['date'].dt.month\n",
    "data_covid['week'] = data_covid['date'].dt.isocalendar().week\n",
    "\n",
    "print(\"\\nContoh data setelah penambahan kolom tahun, bulan, minggu:\")\n",
    "print(data_covid[['date', 'year', 'month', 'week']].head())\n"
   ]
  },
  {
   "cell_type": "code",
   "execution_count": 42,
   "id": "f79cb651",
   "metadata": {},
   "outputs": [
    {
     "name": "stdout",
     "output_type": "stream",
     "text": [
      "<class 'pandas.core.frame.DataFrame'>\n",
      "RangeIndex: 3622862 entries, 0 to 3622861\n",
      "Data columns (total 9 columns):\n",
      " #   Column  Dtype         \n",
      "---  ------  -----         \n",
      " 0   date    datetime64[ns]\n",
      " 1   county  object        \n",
      " 2   state   object        \n",
      " 3   fips    int64         \n",
      " 4   cases   int64         \n",
      " 5   deaths  int64         \n",
      " 6   year    int32         \n",
      " 7   month   int32         \n",
      " 8   week    UInt32        \n",
      "dtypes: UInt32(1), datetime64[ns](1), int32(2), int64(3), object(2)\n",
      "memory usage: 210.8+ MB\n"
     ]
    }
   ],
   "source": [
    "data_covid.info()"
   ]
  },
  {
   "cell_type": "code",
   "execution_count": 43,
   "id": "2bbe84d4",
   "metadata": {},
   "outputs": [
    {
     "data": {
      "text/html": [
       "<div>\n",
       "<style scoped>\n",
       "    .dataframe tbody tr th:only-of-type {\n",
       "        vertical-align: middle;\n",
       "    }\n",
       "\n",
       "    .dataframe tbody tr th {\n",
       "        vertical-align: top;\n",
       "    }\n",
       "\n",
       "    .dataframe thead th {\n",
       "        text-align: right;\n",
       "    }\n",
       "</style>\n",
       "<table border=\"1\" class=\"dataframe\">\n",
       "  <thead>\n",
       "    <tr style=\"text-align: right;\">\n",
       "      <th></th>\n",
       "      <th>date</th>\n",
       "      <th>county</th>\n",
       "      <th>state</th>\n",
       "      <th>fips</th>\n",
       "      <th>cases</th>\n",
       "      <th>deaths</th>\n",
       "      <th>year</th>\n",
       "      <th>month</th>\n",
       "      <th>week</th>\n",
       "    </tr>\n",
       "  </thead>\n",
       "  <tbody>\n",
       "    <tr>\n",
       "      <th>0</th>\n",
       "      <td>2020-01-21</td>\n",
       "      <td>Snohomish</td>\n",
       "      <td>Washington</td>\n",
       "      <td>53061</td>\n",
       "      <td>1</td>\n",
       "      <td>0</td>\n",
       "      <td>2020</td>\n",
       "      <td>1</td>\n",
       "      <td>4</td>\n",
       "    </tr>\n",
       "    <tr>\n",
       "      <th>1</th>\n",
       "      <td>2020-01-22</td>\n",
       "      <td>Snohomish</td>\n",
       "      <td>Washington</td>\n",
       "      <td>53061</td>\n",
       "      <td>1</td>\n",
       "      <td>0</td>\n",
       "      <td>2020</td>\n",
       "      <td>1</td>\n",
       "      <td>4</td>\n",
       "    </tr>\n",
       "    <tr>\n",
       "      <th>2</th>\n",
       "      <td>2020-01-23</td>\n",
       "      <td>Snohomish</td>\n",
       "      <td>Washington</td>\n",
       "      <td>53061</td>\n",
       "      <td>1</td>\n",
       "      <td>0</td>\n",
       "      <td>2020</td>\n",
       "      <td>1</td>\n",
       "      <td>4</td>\n",
       "    </tr>\n",
       "    <tr>\n",
       "      <th>3</th>\n",
       "      <td>2020-01-24</td>\n",
       "      <td>Cook</td>\n",
       "      <td>Illinois</td>\n",
       "      <td>17031</td>\n",
       "      <td>1</td>\n",
       "      <td>0</td>\n",
       "      <td>2020</td>\n",
       "      <td>1</td>\n",
       "      <td>4</td>\n",
       "    </tr>\n",
       "    <tr>\n",
       "      <th>4</th>\n",
       "      <td>2020-01-24</td>\n",
       "      <td>Snohomish</td>\n",
       "      <td>Washington</td>\n",
       "      <td>53061</td>\n",
       "      <td>1</td>\n",
       "      <td>0</td>\n",
       "      <td>2020</td>\n",
       "      <td>1</td>\n",
       "      <td>4</td>\n",
       "    </tr>\n",
       "    <tr>\n",
       "      <th>...</th>\n",
       "      <td>...</td>\n",
       "      <td>...</td>\n",
       "      <td>...</td>\n",
       "      <td>...</td>\n",
       "      <td>...</td>\n",
       "      <td>...</td>\n",
       "      <td>...</td>\n",
       "      <td>...</td>\n",
       "      <td>...</td>\n",
       "    </tr>\n",
       "    <tr>\n",
       "      <th>3622857</th>\n",
       "      <td>2023-03-23</td>\n",
       "      <td>Sweetwater</td>\n",
       "      <td>Wyoming</td>\n",
       "      <td>56037</td>\n",
       "      <td>12519</td>\n",
       "      <td>139</td>\n",
       "      <td>2023</td>\n",
       "      <td>3</td>\n",
       "      <td>12</td>\n",
       "    </tr>\n",
       "    <tr>\n",
       "      <th>3622858</th>\n",
       "      <td>2023-03-23</td>\n",
       "      <td>Teton</td>\n",
       "      <td>Wyoming</td>\n",
       "      <td>56039</td>\n",
       "      <td>12150</td>\n",
       "      <td>16</td>\n",
       "      <td>2023</td>\n",
       "      <td>3</td>\n",
       "      <td>12</td>\n",
       "    </tr>\n",
       "    <tr>\n",
       "      <th>3622859</th>\n",
       "      <td>2023-03-23</td>\n",
       "      <td>Uinta</td>\n",
       "      <td>Wyoming</td>\n",
       "      <td>56041</td>\n",
       "      <td>6416</td>\n",
       "      <td>43</td>\n",
       "      <td>2023</td>\n",
       "      <td>3</td>\n",
       "      <td>12</td>\n",
       "    </tr>\n",
       "    <tr>\n",
       "      <th>3622860</th>\n",
       "      <td>2023-03-23</td>\n",
       "      <td>Washakie</td>\n",
       "      <td>Wyoming</td>\n",
       "      <td>56043</td>\n",
       "      <td>2700</td>\n",
       "      <td>51</td>\n",
       "      <td>2023</td>\n",
       "      <td>3</td>\n",
       "      <td>12</td>\n",
       "    </tr>\n",
       "    <tr>\n",
       "      <th>3622861</th>\n",
       "      <td>2023-03-23</td>\n",
       "      <td>Weston</td>\n",
       "      <td>Wyoming</td>\n",
       "      <td>56045</td>\n",
       "      <td>1906</td>\n",
       "      <td>23</td>\n",
       "      <td>2023</td>\n",
       "      <td>3</td>\n",
       "      <td>12</td>\n",
       "    </tr>\n",
       "  </tbody>\n",
       "</table>\n",
       "<p>3622862 rows × 9 columns</p>\n",
       "</div>"
      ],
      "text/plain": [
       "              date      county       state   fips  cases  deaths  year  month  \\\n",
       "0       2020-01-21   Snohomish  Washington  53061      1       0  2020      1   \n",
       "1       2020-01-22   Snohomish  Washington  53061      1       0  2020      1   \n",
       "2       2020-01-23   Snohomish  Washington  53061      1       0  2020      1   \n",
       "3       2020-01-24        Cook    Illinois  17031      1       0  2020      1   \n",
       "4       2020-01-24   Snohomish  Washington  53061      1       0  2020      1   \n",
       "...            ...         ...         ...    ...    ...     ...   ...    ...   \n",
       "3622857 2023-03-23  Sweetwater     Wyoming  56037  12519     139  2023      3   \n",
       "3622858 2023-03-23       Teton     Wyoming  56039  12150      16  2023      3   \n",
       "3622859 2023-03-23       Uinta     Wyoming  56041   6416      43  2023      3   \n",
       "3622860 2023-03-23    Washakie     Wyoming  56043   2700      51  2023      3   \n",
       "3622861 2023-03-23      Weston     Wyoming  56045   1906      23  2023      3   \n",
       "\n",
       "         week  \n",
       "0           4  \n",
       "1           4  \n",
       "2           4  \n",
       "3           4  \n",
       "4           4  \n",
       "...       ...  \n",
       "3622857    12  \n",
       "3622858    12  \n",
       "3622859    12  \n",
       "3622860    12  \n",
       "3622861    12  \n",
       "\n",
       "[3622862 rows x 9 columns]"
      ]
     },
     "execution_count": 43,
     "metadata": {},
     "output_type": "execute_result"
    }
   ],
   "source": [
    "data_covid"
   ]
  },
  {
   "cell_type": "code",
   "execution_count": 44,
   "id": "04e9a4a4",
   "metadata": {},
   "outputs": [
    {
     "name": "stdout",
     "output_type": "stream",
     "text": [
      "Data hasil preprocessing berhasil disimpan di: D:/TUGAS KAMPUS SEMESTER 4/DATA WAREHOUSE & KOMPUTASI TERDISTRBUSI/PROYEK AKHIR DATWER/covid-19-data-master/data covid preprocessed.csv\n"
     ]
    }
   ],
   "source": [
    "output_path = \"D:/TUGAS KAMPUS SEMESTER 4/DATA WAREHOUSE & KOMPUTASI TERDISTRBUSI/PROYEK AKHIR DATWER/covid-19-data-master/data covid preprocessed.csv\"\n",
    "data_covid.to_csv(output_path, index=False)\n",
    "print(f\"Data hasil preprocessing berhasil disimpan di: {output_path}\")"
   ]
  },
  {
   "cell_type": "markdown",
   "id": "953b0e9d",
   "metadata": {},
   "source": [
    "## **CUBE**"
   ]
  },
  {
   "cell_type": "code",
   "execution_count": 45,
   "id": "a9a70615",
   "metadata": {},
   "outputs": [
    {
     "data": {
      "text/html": [
       "<div>\n",
       "<style scoped>\n",
       "    .dataframe tbody tr th:only-of-type {\n",
       "        vertical-align: middle;\n",
       "    }\n",
       "\n",
       "    .dataframe tbody tr th {\n",
       "        vertical-align: top;\n",
       "    }\n",
       "\n",
       "    .dataframe thead th {\n",
       "        text-align: right;\n",
       "    }\n",
       "</style>\n",
       "<table border=\"1\" class=\"dataframe\">\n",
       "  <thead>\n",
       "    <tr style=\"text-align: right;\">\n",
       "      <th></th>\n",
       "      <th>date</th>\n",
       "      <th>county</th>\n",
       "      <th>state</th>\n",
       "      <th>fips</th>\n",
       "      <th>cases</th>\n",
       "      <th>deaths</th>\n",
       "      <th>year</th>\n",
       "      <th>month</th>\n",
       "      <th>week</th>\n",
       "    </tr>\n",
       "  </thead>\n",
       "  <tbody>\n",
       "    <tr>\n",
       "      <th>0</th>\n",
       "      <td>2020-01-21</td>\n",
       "      <td>Snohomish</td>\n",
       "      <td>Washington</td>\n",
       "      <td>53061</td>\n",
       "      <td>1</td>\n",
       "      <td>0</td>\n",
       "      <td>2020</td>\n",
       "      <td>1</td>\n",
       "      <td>4</td>\n",
       "    </tr>\n",
       "    <tr>\n",
       "      <th>1</th>\n",
       "      <td>2020-01-22</td>\n",
       "      <td>Snohomish</td>\n",
       "      <td>Washington</td>\n",
       "      <td>53061</td>\n",
       "      <td>1</td>\n",
       "      <td>0</td>\n",
       "      <td>2020</td>\n",
       "      <td>1</td>\n",
       "      <td>4</td>\n",
       "    </tr>\n",
       "    <tr>\n",
       "      <th>2</th>\n",
       "      <td>2020-01-23</td>\n",
       "      <td>Snohomish</td>\n",
       "      <td>Washington</td>\n",
       "      <td>53061</td>\n",
       "      <td>1</td>\n",
       "      <td>0</td>\n",
       "      <td>2020</td>\n",
       "      <td>1</td>\n",
       "      <td>4</td>\n",
       "    </tr>\n",
       "    <tr>\n",
       "      <th>3</th>\n",
       "      <td>2020-01-24</td>\n",
       "      <td>Cook</td>\n",
       "      <td>Illinois</td>\n",
       "      <td>17031</td>\n",
       "      <td>1</td>\n",
       "      <td>0</td>\n",
       "      <td>2020</td>\n",
       "      <td>1</td>\n",
       "      <td>4</td>\n",
       "    </tr>\n",
       "    <tr>\n",
       "      <th>4</th>\n",
       "      <td>2020-01-24</td>\n",
       "      <td>Snohomish</td>\n",
       "      <td>Washington</td>\n",
       "      <td>53061</td>\n",
       "      <td>1</td>\n",
       "      <td>0</td>\n",
       "      <td>2020</td>\n",
       "      <td>1</td>\n",
       "      <td>4</td>\n",
       "    </tr>\n",
       "    <tr>\n",
       "      <th>...</th>\n",
       "      <td>...</td>\n",
       "      <td>...</td>\n",
       "      <td>...</td>\n",
       "      <td>...</td>\n",
       "      <td>...</td>\n",
       "      <td>...</td>\n",
       "      <td>...</td>\n",
       "      <td>...</td>\n",
       "      <td>...</td>\n",
       "    </tr>\n",
       "    <tr>\n",
       "      <th>3622857</th>\n",
       "      <td>2023-03-23</td>\n",
       "      <td>Sweetwater</td>\n",
       "      <td>Wyoming</td>\n",
       "      <td>56037</td>\n",
       "      <td>12519</td>\n",
       "      <td>139</td>\n",
       "      <td>2023</td>\n",
       "      <td>3</td>\n",
       "      <td>12</td>\n",
       "    </tr>\n",
       "    <tr>\n",
       "      <th>3622858</th>\n",
       "      <td>2023-03-23</td>\n",
       "      <td>Teton</td>\n",
       "      <td>Wyoming</td>\n",
       "      <td>56039</td>\n",
       "      <td>12150</td>\n",
       "      <td>16</td>\n",
       "      <td>2023</td>\n",
       "      <td>3</td>\n",
       "      <td>12</td>\n",
       "    </tr>\n",
       "    <tr>\n",
       "      <th>3622859</th>\n",
       "      <td>2023-03-23</td>\n",
       "      <td>Uinta</td>\n",
       "      <td>Wyoming</td>\n",
       "      <td>56041</td>\n",
       "      <td>6416</td>\n",
       "      <td>43</td>\n",
       "      <td>2023</td>\n",
       "      <td>3</td>\n",
       "      <td>12</td>\n",
       "    </tr>\n",
       "    <tr>\n",
       "      <th>3622860</th>\n",
       "      <td>2023-03-23</td>\n",
       "      <td>Washakie</td>\n",
       "      <td>Wyoming</td>\n",
       "      <td>56043</td>\n",
       "      <td>2700</td>\n",
       "      <td>51</td>\n",
       "      <td>2023</td>\n",
       "      <td>3</td>\n",
       "      <td>12</td>\n",
       "    </tr>\n",
       "    <tr>\n",
       "      <th>3622861</th>\n",
       "      <td>2023-03-23</td>\n",
       "      <td>Weston</td>\n",
       "      <td>Wyoming</td>\n",
       "      <td>56045</td>\n",
       "      <td>1906</td>\n",
       "      <td>23</td>\n",
       "      <td>2023</td>\n",
       "      <td>3</td>\n",
       "      <td>12</td>\n",
       "    </tr>\n",
       "  </tbody>\n",
       "</table>\n",
       "<p>3622862 rows × 9 columns</p>\n",
       "</div>"
      ],
      "text/plain": [
       "               date      county       state   fips  cases  deaths  year  \\\n",
       "0        2020-01-21   Snohomish  Washington  53061      1       0  2020   \n",
       "1        2020-01-22   Snohomish  Washington  53061      1       0  2020   \n",
       "2        2020-01-23   Snohomish  Washington  53061      1       0  2020   \n",
       "3        2020-01-24        Cook    Illinois  17031      1       0  2020   \n",
       "4        2020-01-24   Snohomish  Washington  53061      1       0  2020   \n",
       "...             ...         ...         ...    ...    ...     ...   ...   \n",
       "3622857  2023-03-23  Sweetwater     Wyoming  56037  12519     139  2023   \n",
       "3622858  2023-03-23       Teton     Wyoming  56039  12150      16  2023   \n",
       "3622859  2023-03-23       Uinta     Wyoming  56041   6416      43  2023   \n",
       "3622860  2023-03-23    Washakie     Wyoming  56043   2700      51  2023   \n",
       "3622861  2023-03-23      Weston     Wyoming  56045   1906      23  2023   \n",
       "\n",
       "         month  week  \n",
       "0            1     4  \n",
       "1            1     4  \n",
       "2            1     4  \n",
       "3            1     4  \n",
       "4            1     4  \n",
       "...        ...   ...  \n",
       "3622857      3    12  \n",
       "3622858      3    12  \n",
       "3622859      3    12  \n",
       "3622860      3    12  \n",
       "3622861      3    12  \n",
       "\n",
       "[3622862 rows x 9 columns]"
      ]
     },
     "execution_count": 45,
     "metadata": {},
     "output_type": "execute_result"
    }
   ],
   "source": [
    "import pandas as pd\n",
    "data = pd.read_csv(\"D:/TUGAS KAMPUS SEMESTER 4/DATA WAREHOUSE & KOMPUTASI TERDISTRBUSI/PROYEK AKHIR DATWER/covid-19-data-master/data covid preprocessed.csv\")\n",
    "data"
   ]
  },
  {
   "cell_type": "code",
   "execution_count": 46,
   "id": "c6400b71",
   "metadata": {},
   "outputs": [
    {
     "name": "stdout",
     "output_type": "stream",
     "text": [
      "Welcome to Atoti 0.9.6!\n",
      "\n",
      "By using this community edition, you agree with the license available at https://docs.activeviam.com/products/atoti/python-sdk/latest/eula.html.\n",
      "Browse the official documentation at https://docs.activeviam.com/products/atoti/python-sdk.\n",
      "Join the community at https://www.atoti.io/register.\n",
      "\n",
      "Atoti collects telemetry data, which is used to help understand how to improve the product.\n",
      "If you don't wish to send usage data, you can request a trial license at https://www.atoti.io/evaluation-license-request.\n",
      "\n",
      "You can hide this message by setting the `ATOTI_HIDE_EULA_MESSAGE` environment variable to True.\n"
     ]
    }
   ],
   "source": [
    "import atoti as tt"
   ]
  },
  {
   "cell_type": "code",
   "execution_count": 47,
   "id": "7d87bb97",
   "metadata": {},
   "outputs": [],
   "source": [
    "session = tt.Session.start()"
   ]
  },
  {
   "cell_type": "code",
   "execution_count": 48,
   "id": "b2b4ff2c",
   "metadata": {},
   "outputs": [],
   "source": [
    "data[\"date\"] = pd.to_datetime(data[\"date\"])"
   ]
  },
  {
   "cell_type": "code",
   "execution_count": 49,
   "id": "8c897c2b",
   "metadata": {},
   "outputs": [
    {
     "name": "stderr",
     "output_type": "stream",
     "text": [
      "c:\\Users\\lenovo\\AppData\\Local\\Programs\\Python\\Python312\\Lib\\site-packages\\atoti\\session.py:838: FutureWarning: The `types` parameter is deprecated, use `data_types` instead.\n",
      "  data_types = _get_data_types(\n"
     ]
    }
   ],
   "source": [
    "table = session.read_pandas(\n",
    "    data,\n",
    "    table_name=\"covid_data\",\n",
    "    keys=[\"date\", \"county\", \"state\"],\n",
    "    types={\n",
    "        \"date\": \"LocalDate\",     \n",
    "        \"fips\": \"int\",         \n",
    "        \"cases\": \"int\",      \n",
    "        \"deaths\": \"int\",\n",
    "        \"year\": \"int\",\n",
    "        \"month\": \"int\",\n",
    "        \"week\": \"int\"\n",
    "    }\n",
    ")"
   ]
  },
  {
   "cell_type": "code",
   "execution_count": 50,
   "id": "71455ae4",
   "metadata": {},
   "outputs": [
    {
     "data": {
      "application/json": {
       "cases": {
        "default_value": null,
        "type": "int"
       },
       "county": {
        "default_value": "N/A",
        "type": "String"
       },
       "date": {
        "default_value": "1970-01-01",
        "type": "LocalDate"
       },
       "deaths": {
        "default_value": null,
        "type": "int"
       },
       "fips": {
        "default_value": null,
        "type": "int"
       },
       "month": {
        "default_value": null,
        "type": "int"
       },
       "state": {
        "default_value": "N/A",
        "type": "String"
       },
       "week": {
        "default_value": null,
        "type": "int"
       },
       "year": {
        "default_value": null,
        "type": "int"
       }
      },
      "text/html": [
       "<ul>\n",
       "<li>covid_data\n",
       "  <ul>\n",
       "  <li>date\n",
       "    <ul>\n",
       "    <li>type: LocalDate</li>\n",
       "    <li>default_value: 1970-01-01</li>\n",
       "    </ul>\n",
       "  </li>\n",
       "  <li>county\n",
       "    <ul>\n",
       "    <li>type: String</li>\n",
       "    <li>default_value: N/A</li>\n",
       "    </ul>\n",
       "  </li>\n",
       "  <li>state\n",
       "    <ul>\n",
       "    <li>type: String</li>\n",
       "    <li>default_value: N/A</li>\n",
       "    </ul>\n",
       "  </li>\n",
       "  <li>fips\n",
       "    <ul>\n",
       "    <li>type: int</li>\n",
       "    <li>default_value: None</li>\n",
       "    </ul>\n",
       "  </li>\n",
       "  <li>cases\n",
       "    <ul>\n",
       "    <li>type: int</li>\n",
       "    <li>default_value: None</li>\n",
       "    </ul>\n",
       "  </li>\n",
       "  <li>deaths\n",
       "    <ul>\n",
       "    <li>type: int</li>\n",
       "    <li>default_value: None</li>\n",
       "    </ul>\n",
       "  </li>\n",
       "  <li>year\n",
       "    <ul>\n",
       "    <li>type: int</li>\n",
       "    <li>default_value: None</li>\n",
       "    </ul>\n",
       "  </li>\n",
       "  <li>month\n",
       "    <ul>\n",
       "    <li>type: int</li>\n",
       "    <li>default_value: None</li>\n",
       "    </ul>\n",
       "  </li>\n",
       "  <li>week\n",
       "    <ul>\n",
       "    <li>type: int</li>\n",
       "    <li>default_value: None</li>\n",
       "    </ul>\n",
       "  </li>\n",
       "  </ul>\n",
       "</li>\n",
       "</ul>\n"
      ],
      "text/plain": [
       "<atoti.table.Table at 0x1dda7435160>"
      ]
     },
     "execution_count": 50,
     "metadata": {
      "application/json": {
       "expanded": true,
       "root": "covid_data"
      }
     },
     "output_type": "execute_result"
    }
   ],
   "source": [
    "table"
   ]
  },
  {
   "cell_type": "code",
   "execution_count": 51,
   "id": "79c12bfe",
   "metadata": {},
   "outputs": [],
   "source": [
    "cube = session.create_cube(table, \"CovidCube\")\n",
    "h = cube.hierarchies\n",
    "l = cube.levels\n",
    "m = cube.measures"
   ]
  },
  {
   "cell_type": "code",
   "execution_count": 52,
   "id": "315ab182",
   "metadata": {},
   "outputs": [
    {
     "name": "stdout",
     "output_type": "stream",
     "text": [
      "{('covid_data', 'county'): <atoti.hierarchy.Hierarchy object at 0x000001DDA76C9790>, ('covid_data', 'date'): <atoti.hierarchy.Hierarchy object at 0x000001DDA76C94C0>, ('covid_data', 'state'): <atoti.hierarchy.Hierarchy object at 0x000001DDA76C9760>}\n"
     ]
    }
   ],
   "source": [
    "print(cube.hierarchies)"
   ]
  },
  {
   "cell_type": "code",
   "execution_count": 53,
   "id": "44c87c5f",
   "metadata": {},
   "outputs": [
    {
     "name": "stdout",
     "output_type": "stream",
     "text": [
      "{'year.MEAN': <atoti.measure.Measure object at 0x000001DDA7435F40>, 'year.SUM': <atoti.measure.Measure object at 0x000001DDA7436210>, 'cases.MEAN': <atoti.measure.Measure object at 0x000001DDA7434F50>, 'month.SUM': <atoti.measure.Measure object at 0x000001DDA7435E20>, 'deaths.MEAN': <atoti.measure.Measure object at 0x000001DDA7434A40>, 'month.MEAN': <atoti.measure.Measure object at 0x000001DDA7436120>, 'fips.SUM': <atoti.measure.Measure object at 0x000001DDA7435280>, 'deaths.SUM': <atoti.measure.Measure object at 0x000001DDA74364B0>, 'contributors.COUNT': <atoti.measure.Measure object at 0x000001DDA7434B00>, 'cases.SUM': <atoti.measure.Measure object at 0x000001DDA7436000>, 'week.MEAN': <atoti.measure.Measure object at 0x000001DD873BE0F0>, 'week.SUM': <atoti.measure.Measure object at 0x000001DD8E92AA20>, 'update.TIMESTAMP': <atoti.measure.Measure object at 0x000001DDEFEC8440>, 'fips.MEAN': <atoti.measure.Measure object at 0x000001DDA7331DC0>}\n"
     ]
    }
   ],
   "source": [
    "print(cube.measures)"
   ]
  },
  {
   "cell_type": "code",
   "execution_count": 54,
   "id": "17d70862",
   "metadata": {},
   "outputs": [
    {
     "name": "stdout",
     "output_type": "stream",
     "text": [
      "{('covid_data', 'county', 'county'): <atoti.level.Level object at 0x000001DDA765BCB0>, ('covid_data', 'date', 'date'): <atoti.level.Level object at 0x000001DDA765A720>, ('covid_data', 'state', 'state'): <atoti.level.Level object at 0x000001DDA7659970>}\n"
     ]
    }
   ],
   "source": [
    "print(cube.levels)"
   ]
  },
  {
   "cell_type": "code",
   "execution_count": 55,
   "id": "96596609",
   "metadata": {},
   "outputs": [],
   "source": [
    "time_hierarchy = h[\"date\"] \n",
    "location_hierarchy = h[\"state\"]  "
   ]
  },
  {
   "cell_type": "code",
   "execution_count": 56,
   "id": "df3c6512",
   "metadata": {},
   "outputs": [
    {
     "name": "stdout",
     "output_type": "stream",
     "text": [
      "Hierarchies available:\n",
      "('covid_data', 'county')\n",
      "('covid_data', 'date')\n",
      "('covid_data', 'state')\n",
      "\n",
      "Levels available:\n",
      "('covid_data', 'county', 'county')\n",
      "('covid_data', 'date', 'date')\n",
      "('covid_data', 'state', 'state')\n",
      "\n",
      "Measures available:\n",
      "year.MEAN\n",
      "year.SUM\n",
      "cases.MEAN\n",
      "month.SUM\n",
      "deaths.MEAN\n",
      "month.MEAN\n",
      "fips.SUM\n",
      "deaths.SUM\n",
      "contributors.COUNT\n",
      "cases.SUM\n",
      "week.MEAN\n",
      "week.SUM\n",
      "update.TIMESTAMP\n",
      "fips.MEAN\n"
     ]
    }
   ],
   "source": [
    "print(\"Hierarchies available:\")\n",
    "for h_name in h:\n",
    "    print(h_name)\n",
    "\n",
    "print(\"\\nLevels available:\")\n",
    "for l_name in l:\n",
    "    print(l_name)\n",
    "\n",
    "print(\"\\nMeasures available:\")\n",
    "for m_name in m:\n",
    "    print(m_name)"
   ]
  },
  {
   "cell_type": "code",
   "execution_count": 57,
   "id": "58b077f1",
   "metadata": {},
   "outputs": [],
   "source": [
    "date_level = l[(\"covid_data\", \"date\", \"date\")]\n",
    "state_level = l[(\"covid_data\", \"state\", \"state\")]\n",
    "county_level = l[(\"covid_data\", \"county\", \"county\")]"
   ]
  },
  {
   "cell_type": "code",
   "execution_count": 58,
   "id": "941e9bb5",
   "metadata": {},
   "outputs": [],
   "source": [
    "cases_sum = m[\"cases.SUM\"]\n",
    "deaths_sum = m[\"deaths.SUM\"]"
   ]
  },
  {
   "cell_type": "markdown",
   "id": "733197fd",
   "metadata": {},
   "source": [
    "### **PERTANYAAN**"
   ]
  },
  {
   "cell_type": "markdown",
   "id": "8fad558c",
   "metadata": {},
   "source": [
    "##### **Pertanyaan 1 : Berapa jumlah keseluruhan kasus kematian akibat COVID-19 pada tahun 2020-2023?**"
   ]
  },
  {
   "cell_type": "code",
   "execution_count": 59,
   "id": "5bcb8584",
   "metadata": {},
   "outputs": [
    {
     "data": {
      "application/vnd.atoti.convert-mdx-query-result-to-widget.v0+json": {
       "mdx": "SELECT {[Measures].[deaths.SUM]} ON COLUMNS FROM [CovidCube]",
       "sessionId": "1748925460_318322",
       "widgetCreationCode": "session.widget"
      },
      "text/html": [
       "<div>\n",
       "<style scoped>\n",
       "    .dataframe tbody tr th:only-of-type {\n",
       "        vertical-align: middle;\n",
       "    }\n",
       "\n",
       "    .dataframe tbody tr th {\n",
       "        vertical-align: top;\n",
       "    }\n",
       "\n",
       "    .dataframe thead th {\n",
       "        text-align: right;\n",
       "    }\n",
       "</style>\n",
       "<table border=\"1\" class=\"dataframe\">\n",
       "  <thead>\n",
       "    <tr style=\"text-align: right;\">\n",
       "      <th></th>\n",
       "      <th>deaths.SUM</th>\n",
       "    </tr>\n",
       "  </thead>\n",
       "  <tbody>\n",
       "    <tr>\n",
       "      <th>0</th>\n",
       "      <td>730,109,964</td>\n",
       "    </tr>\n",
       "  </tbody>\n",
       "</table>\n",
       "</div>"
      ],
      "text/plain": [
       "    deaths.SUM\n",
       "0  730,109,964"
      ]
     },
     "execution_count": 59,
     "metadata": {},
     "output_type": "execute_result"
    }
   ],
   "source": [
    "result1 = cube.query(\n",
    "    m[\"deaths.SUM\"]\n",
    ")\n",
    "\n",
    "result1"
   ]
  },
  {
   "cell_type": "markdown",
   "id": "0a678410",
   "metadata": {},
   "source": [
    "##### **Pertanyaan 2 : Apa tiga negara bagian (state) dengan jumlah kasus COVID-19 terbanyak??**"
   ]
  },
  {
   "cell_type": "code",
   "execution_count": 60,
   "id": "94f9b9cb",
   "metadata": {},
   "outputs": [
    {
     "name": "stdout",
     "output_type": "stream",
     "text": [
      "Top 3 state dengan kasus terbanyak:\n",
      "\n"
     ]
    },
    {
     "data": {
      "text/html": [
       "<div>\n",
       "<style scoped>\n",
       "    .dataframe tbody tr th:only-of-type {\n",
       "        vertical-align: middle;\n",
       "    }\n",
       "\n",
       "    .dataframe tbody tr th {\n",
       "        vertical-align: top;\n",
       "    }\n",
       "\n",
       "    .dataframe thead th {\n",
       "        text-align: right;\n",
       "    }\n",
       "</style>\n",
       "<table border=\"1\" class=\"dataframe\">\n",
       "  <thead>\n",
       "    <tr style=\"text-align: right;\">\n",
       "      <th></th>\n",
       "      <th>cases.SUM</th>\n",
       "    </tr>\n",
       "    <tr>\n",
       "      <th>state</th>\n",
       "      <th></th>\n",
       "    </tr>\n",
       "  </thead>\n",
       "  <tbody>\n",
       "    <tr>\n",
       "      <th>California</th>\n",
       "      <td>2,020,174,625</td>\n",
       "    </tr>\n",
       "    <tr>\n",
       "      <th>Pennsylvania</th>\n",
       "      <td>1,884,002,397</td>\n",
       "    </tr>\n",
       "    <tr>\n",
       "      <th>Ohio</th>\n",
       "      <td>1,813,202,197</td>\n",
       "    </tr>\n",
       "  </tbody>\n",
       "</table>\n",
       "</div>"
      ],
      "text/plain": [
       "                  cases.SUM\n",
       "state                      \n",
       "California    2,020,174,625\n",
       "Pennsylvania  1,884,002,397\n",
       "Ohio          1,813,202,197"
      ]
     },
     "execution_count": 60,
     "metadata": {},
     "output_type": "execute_result"
    }
   ],
   "source": [
    "result2 = cube.query(\n",
    "    m[\"cases.SUM\"],\n",
    "    levels=[state_level]\n",
    ")\n",
    "\n",
    "top3 = result2.sort_values(by=\"cases.SUM\", ascending=False).head(3)\n",
    "top3[\"cases.SUM\"] = top3[\"cases.SUM\"].apply(lambda x: f\"{x:,}\")\n",
    "\n",
    "print(\"Top 3 state dengan kasus terbanyak:\\n\")\n",
    "top3\n"
   ]
  },
  {
   "cell_type": "markdown",
   "id": "2bd09893",
   "metadata": {},
   "source": [
    "##### **Pertanyaan 3 : County mana yang memiliki jumlah kematian terbanyak di negara bagian Wyoming???**"
   ]
  },
  {
   "cell_type": "code",
   "execution_count": 61,
   "id": "474a4d7e",
   "metadata": {},
   "outputs": [
    {
     "data": {
      "text/html": [
       "<div>\n",
       "<style scoped>\n",
       "    .dataframe tbody tr th:only-of-type {\n",
       "        vertical-align: middle;\n",
       "    }\n",
       "\n",
       "    .dataframe tbody tr th {\n",
       "        vertical-align: top;\n",
       "    }\n",
       "\n",
       "    .dataframe thead th {\n",
       "        text-align: right;\n",
       "    }\n",
       "</style>\n",
       "<table border=\"1\" class=\"dataframe\">\n",
       "  <thead>\n",
       "    <tr style=\"text-align: right;\">\n",
       "      <th></th>\n",
       "      <th></th>\n",
       "      <th>deaths.SUM</th>\n",
       "    </tr>\n",
       "    <tr>\n",
       "      <th>state</th>\n",
       "      <th>county</th>\n",
       "      <th></th>\n",
       "    </tr>\n",
       "  </thead>\n",
       "  <tbody>\n",
       "    <tr>\n",
       "      <th>Wyoming</th>\n",
       "      <th>Laramie</th>\n",
       "      <td>185580</td>\n",
       "    </tr>\n",
       "  </tbody>\n",
       "</table>\n",
       "</div>"
      ],
      "text/plain": [
       "                 deaths.SUM\n",
       "state   county             \n",
       "Wyoming Laramie      185580"
      ]
     },
     "execution_count": 61,
     "metadata": {},
     "output_type": "execute_result"
    }
   ],
   "source": [
    "result3 = cube.query(\n",
    "    deaths_sum,\n",
    "    levels=[state_level, county_level],\n",
    "    filter=location_hierarchy == \"Wyoming\"\n",
    ")\n",
    "\n",
    "top_county = result3.sort_values(by=\"deaths.SUM\", ascending=False).head(1)\n",
    "top_county"
   ]
  },
  {
   "cell_type": "markdown",
   "id": "e18e1ac3",
   "metadata": {},
   "source": [
    "##### **Pertanyaan 4 : Berapa total kasus dan kematian akibat COVID-19 di County Los Angeles, negara bagian California, dari tahun 2020 hingga 2023????**"
   ]
  },
  {
   "cell_type": "code",
   "execution_count": 62,
   "id": "144797a1",
   "metadata": {},
   "outputs": [
    {
     "data": {
      "text/html": [
       "<div>\n",
       "<style scoped>\n",
       "    .dataframe tbody tr th:only-of-type {\n",
       "        vertical-align: middle;\n",
       "    }\n",
       "\n",
       "    .dataframe tbody tr th {\n",
       "        vertical-align: top;\n",
       "    }\n",
       "\n",
       "    .dataframe thead th {\n",
       "        text-align: right;\n",
       "    }\n",
       "</style>\n",
       "<table border=\"1\" class=\"dataframe\">\n",
       "  <thead>\n",
       "    <tr style=\"text-align: right;\">\n",
       "      <th></th>\n",
       "      <th></th>\n",
       "      <th>cases.SUM</th>\n",
       "      <th>deaths.SUM</th>\n",
       "    </tr>\n",
       "    <tr>\n",
       "      <th>state</th>\n",
       "      <th>county</th>\n",
       "      <th></th>\n",
       "      <th></th>\n",
       "    </tr>\n",
       "  </thead>\n",
       "  <tbody>\n",
       "    <tr>\n",
       "      <th>California</th>\n",
       "      <th>Los Angeles</th>\n",
       "      <td>1971913641</td>\n",
       "      <td>24625479</td>\n",
       "    </tr>\n",
       "  </tbody>\n",
       "</table>\n",
       "</div>"
      ],
      "text/plain": [
       "                         cases.SUM  deaths.SUM\n",
       "state      county                             \n",
       "California Los Angeles  1971913641    24625479"
      ]
     },
     "execution_count": 62,
     "metadata": {},
     "output_type": "execute_result"
    }
   ],
   "source": [
    "result4 = cube.query(\n",
    "    cases_sum,\n",
    "    deaths_sum,\n",
    "    levels=[state_level, county_level],\n",
    "    filter=(\n",
    "        (date_level >= \"2020-01-01\") &\n",
    "        (date_level <= \"2023-12-31\") &\n",
    "        (location_hierarchy == \"California\") &\n",
    "        (county_level == \"Los Angeles\")\n",
    "    )\n",
    ")\n",
    "\n",
    "total_4 = result4.groupby(level=[\"state\", \"county\"])[[cases_sum.name, deaths_sum.name]].sum()\n",
    "total_4\n"
   ]
  },
  {
   "cell_type": "markdown",
   "id": "72bce3e0",
   "metadata": {},
   "source": [
    "##### **Pertanyaan 5 : Negara bagian mana yang mengalami pertumbuhan kasus COVID-19 paling signifikan?**"
   ]
  },
  {
   "cell_type": "code",
   "execution_count": 63,
   "id": "c2e4d36d",
   "metadata": {},
   "outputs": [
    {
     "data": {
      "text/html": [
       "<div>\n",
       "<style scoped>\n",
       "    .dataframe tbody tr th:only-of-type {\n",
       "        vertical-align: middle;\n",
       "    }\n",
       "\n",
       "    .dataframe tbody tr th {\n",
       "        vertical-align: top;\n",
       "    }\n",
       "\n",
       "    .dataframe thead th {\n",
       "        text-align: right;\n",
       "    }\n",
       "</style>\n",
       "<table border=\"1\" class=\"dataframe\">\n",
       "  <thead>\n",
       "    <tr style=\"text-align: right;\">\n",
       "      <th></th>\n",
       "      <th>cases.SUM_2020</th>\n",
       "      <th>cases.SUM_2023</th>\n",
       "      <th>growth_percent</th>\n",
       "    </tr>\n",
       "    <tr>\n",
       "      <th>state</th>\n",
       "      <th></th>\n",
       "      <th></th>\n",
       "      <th></th>\n",
       "    </tr>\n",
       "  </thead>\n",
       "  <tbody>\n",
       "    <tr>\n",
       "      <th>Northern Mariana Islands</th>\n",
       "      <td>15491</td>\n",
       "      <td>1097277</td>\n",
       "      <td>6983.319347</td>\n",
       "    </tr>\n",
       "  </tbody>\n",
       "</table>\n",
       "</div>"
      ],
      "text/plain": [
       "                          cases.SUM_2020  cases.SUM_2023  growth_percent\n",
       "state                                                                   \n",
       "Northern Mariana Islands           15491         1097277     6983.319347"
      ]
     },
     "execution_count": 63,
     "metadata": {},
     "output_type": "execute_result"
    }
   ],
   "source": [
    "cases_2020 = cube.query(\n",
    "    cases_sum,\n",
    "    levels=[state_level],\n",
    "    filter=(\n",
    "        (date_level >= \"2020-01-01\") & (date_level <= \"2020-12-31\")\n",
    "    )\n",
    ")\n",
    "\n",
    "cases_2023 = cube.query(\n",
    "    cases_sum,\n",
    "    levels=[state_level],\n",
    "    filter=(\n",
    "        (date_level >= \"2023-01-01\") & (date_level <= \"2023-12-31\")\n",
    "    )\n",
    ")\n",
    "\n",
    "growth_df = cases_2020.join(\n",
    "    cases_2023,\n",
    "    lsuffix='_2020',\n",
    "    rsuffix='_2023',\n",
    "    how='inner'\n",
    ")\n",
    "\n",
    "growth_df[\"growth_percent\"] = ((growth_df[f\"{cases_sum.name}_2023\"] - growth_df[f\"{cases_sum.name}_2020\"]) / growth_df[f\"{cases_sum.name}_2020\"]) * 100\n",
    "\n",
    "top_growth_state = growth_df.sort_values(by=\"growth_percent\", ascending=False).head(1)\n",
    "top_growth_state\n"
   ]
  },
  {
   "cell_type": "markdown",
   "id": "40252f20",
   "metadata": {},
   "source": [
    "##### **Pertanyaan 6 : Negara bagian mana yang memiliki jumlah kasus kumulatif tertinggi pada tahun 2021 dibandingkan tahun 2022?**"
   ]
  },
  {
   "cell_type": "code",
   "execution_count": 64,
   "id": "ad827df7",
   "metadata": {},
   "outputs": [
    {
     "name": "stdout",
     "output_type": "stream",
     "text": [
      "Top 3 state dengan kasus tertinggi tahun 2021:\n",
      "            cases.SUM_2021\n",
      "state                     \n",
      "California      1496462536\n",
      "Texas           1195039278\n",
      "Florida          974170111\n",
      "\n",
      "Top 3 state dengan kasus tertinggi tahun 2022:\n",
      "              cases.SUM_2022\n",
      "state                       \n",
      "New York          2028292482\n",
      "Illinois          1242333880\n",
      "Pennsylvania      1093607580\n"
     ]
    }
   ],
   "source": [
    "cases_2021 = cube.query(\n",
    "    cases_sum,\n",
    "    levels=[state_level],\n",
    "    filter=(\n",
    "        (date_level >= \"2021-01-01\") &\n",
    "        (date_level <= \"2021-12-31\")\n",
    "    )\n",
    ")\n",
    "\n",
    "cases_2022 = cube.query(\n",
    "    cases_sum,\n",
    "    levels=[state_level],\n",
    "    filter=(\n",
    "        (date_level >= \"2022-01-01\") &\n",
    "        (date_level <= \"2022-12-31\")\n",
    "    )\n",
    ")\n",
    "\n",
    "cases_compare = cases_2021.join(\n",
    "    cases_2022,\n",
    "    lsuffix='_2021',\n",
    "    rsuffix='_2022',\n",
    "    how='inner'\n",
    ")\n",
    "\n",
    "top_2021 = cases_compare.sort_values(by=f\"{cases_sum.name}_2021\", ascending=False).head(3)\n",
    "top_2022 = cases_compare.sort_values(by=f\"{cases_sum.name}_2022\", ascending=False).head(3)\n",
    "\n",
    "print(\"Top 3 state dengan kasus tertinggi tahun 2021:\")\n",
    "print(top_2021[[f\"{cases_sum.name}_2021\"]])\n",
    "\n",
    "print(\"\\nTop 3 state dengan kasus tertinggi tahun 2022:\")\n",
    "print(top_2022[[f\"{cases_sum.name}_2022\"]])"
   ]
  },
  {
   "cell_type": "markdown",
   "id": "cdce7a13",
   "metadata": {},
   "source": [
    "## **PLOTTING**"
   ]
  },
  {
   "cell_type": "markdown",
   "id": "900071e2",
   "metadata": {},
   "source": [
    "#### **VISUALISASI 1 : Jumlah Kematian per State (Bar Chart)**"
   ]
  },
  {
   "cell_type": "code",
   "execution_count": 65,
   "id": "89deeed3",
   "metadata": {},
   "outputs": [
    {
     "data": {
      "image/png": "[encoded data removed]",
      "text/plain": [
       "<Figure size 1200x600 with 1 Axes>"
      ]
     },
     "metadata": {},
     "output_type": "display_data"
    }
   ],
   "source": [
    "import matplotlib.pyplot as plt\n",
    "\n",
    "df_deaths_state = cube.query(\n",
    "    m[\"deaths.SUM\"],\n",
    "    levels=[l[(\"covid_data\", \"state\", \"state\")]]\n",
    ")\n",
    "\n",
    "df_deaths_state.sort_values(\"deaths.SUM\", ascending=False).plot(\n",
    "    kind=\"bar\",\n",
    "    figsize=(12, 6),\n",
    "    legend=False,\n",
    "    title=\"Jumlah Kematian per State\"\n",
    ")\n",
    "plt.ylabel(\"Total Kematian\")\n",
    "plt.xlabel(\"State\")\n",
    "plt.tight_layout()\n",
    "plt.show()\n"
   ]
  },
  {
   "cell_type": "markdown",
   "id": "66f47bad",
   "metadata": {},
   "source": [
    "#### **VISUALISASI 2 : Total Kasus per Tahun (Line Chart)**"
   ]
  },
  {
   "cell_type": "code",
   "execution_count": 66,
   "id": "2f8e373d",
   "metadata": {},
   "outputs": [
    {
     "data": {
      "image/png": "[encoded data removed]",
      "text/plain": [
       "<Figure size 1000x500 with 1 Axes>"
      ]
     },
     "metadata": {},
     "output_type": "display_data"
    }
   ],
   "source": [
    "\n",
    "df_cases_by_date = cube.query(\n",
    "    m[\"cases.SUM\"],\n",
    "    levels=[date_level],\n",
    "    filter=(\n",
    "        (date_level >= \"2020-01-01\") &\n",
    "        (date_level <= \"2023-12-31\")\n",
    "    )\n",
    ")\n",
    "\n",
    "df_cases_by_date.index = pd.to_datetime(df_cases_by_date.index)\n",
    "\n",
    "df_cases_per_year = df_cases_by_date.groupby(df_cases_by_date.index.year).sum()\n",
    "\n",
    "df_cases_per_year.plot(\n",
    "    kind=\"line\",\n",
    "    marker=\"o\",\n",
    "    figsize=(10, 5),\n",
    "    title=\"Total Kasus COVID per Tahun (2020-2023)\"\n",
    ")\n",
    "plt.xlabel(\"Tahun\")\n",
    "plt.ylabel(\"Total Kasus\")\n",
    "plt.grid(True)\n",
    "plt.tight_layout()\n",
    "plt.show()\n"
   ]
  }
 ],
 "metadata": {
  "kernelspec": {
   "display_name": "Python 3",
   "language": "python",
   "name": "python3"
  },
  "language_info": {
   "codemirror_mode": {
    "name": "ipython",
    "version": 3
   },
   "file_extension": ".py",
   "mimetype": "text/x-python",
   "name": "python",
   "nbconvert_exporter": "python",
   "pygments_lexer": "ipython3",
   "version": "3.12.2"
  }
 },
 "nbformat": 4,
 "nbformat_minor": 5
}
